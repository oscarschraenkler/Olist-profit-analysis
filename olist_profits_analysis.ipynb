{
 "cells": [
  {
   "cell_type": "markdown",
   "metadata": {
    "slideshow": {
     "slide_type": "slide"
    }
   },
   "source": [
    "# How could Olist increase its profit? "
   ]
  },
  {
   "cell_type": "markdown",
   "metadata": {},
   "source": [
    "Analysis by Oscar Schraenkler"
   ]
  },
  {
   "cell_type": "markdown",
   "metadata": {},
   "source": [
    "## Problem Statement"
   ]
  },
  {
   "cell_type": "markdown",
   "metadata": {},
   "source": [
    "The Olist data set includes reviews for each product sold on the platform. By making assumptions about the financial cost of negative reviews to Olist, we can identify the underperforming sellers and remove them to increase profit.\n",
    "\n",
    "❓ How many underperforming sellers should Olist remove to improve its profit, given that it has:\n",
    "\n",
    "- Some revenue per seller per months\n",
    "- Some revenue per order\n",
    "- Some reputation costs (estimated) per bad review\n",
    "- Some operational costs of the IT system that grows with number of orders, but not linearly (scale effects)"
   ]
  },
  {
   "cell_type": "markdown",
   "metadata": {
    "slideshow": {
     "slide_type": "skip"
    }
   },
   "source": [
    "## P&L Rules"
   ]
  },
  {
   "cell_type": "markdown",
   "metadata": {
    "slideshow": {
     "slide_type": "skip"
    }
   },
   "source": [
    "#### Revenues  \n",
    "**Sales fees:** Olist takes a **10% cut** on the product price (excl. freight) of each order delivered  \n",
    "**Subscription fees:** Olist charges **80 BRL by month** per seller\n",
    "\n",
    "#### Costs\n",
    "**Reputation costs** *estimated* per order with bad reviews (<= 3 stars)  \n",
    "\n",
    "💡 In the long term, bad customer experience has business implications: low repeat rate, immediate customer support cost, refunds or unfavorable word of mouth communication. We will assume that we have an estimate measure of the monetary cost for each bad review:\n",
    "```python\n",
    "# review_score: cost(BRL)\n",
    "{'1 star': 100\n",
    "'2 stars': 50\n",
    "'3 stars': 40\n",
    "'4 stars': 0\n",
    "'5 stars': 0}\n",
    "```\n",
    "\n",
    "**IT costs:** Olist's **total cumulated IT Costs** scale with the square root of the total number of sellers that has ever join the platform, as well as the square root of the total cumulated number of products that was ever sold.  \n",
    "\n",
    "$IT\\_costs = \\alpha * \\sqrt{n\\_sellers} + \\beta * \\sqrt{n\\_products}$  \n",
    "Olist's data team gave us the following values for these scaling parameters:\n",
    "- $\\alpha = 3157.27$\n",
    "- $\\beta = 978.23$\n",
    "\n",
    "💡 Both number of sellers to manage and sales transaction are costly for IT systems.  \n",
    "💡 Yet square roots reflect scale-effects: IT-system are often more efficient as they grow bigger.  \n",
    "💡 Alpha > Beta means that \"Olist has a lower IT Cost with few sellers selling a lot of products rather than the opposite  \n",
    "- with **1000 sellers** and a total of **100 products** sold, the total IT cost accumulates to 109,624 BRL\n",
    "- with **100 sellers** and a total of **1000 products** sold, the total IT cost accumulates to 62,507 BRL"
   ]
  },
  {
   "cell_type": "markdown",
   "metadata": {
    "slideshow": {
     "slide_type": "skip"
    }
   },
   "source": [
    "## Imports & Loading Data"
   ]
  },
  {
   "cell_type": "markdown",
   "metadata": {},
   "source": [
    "### Imports"
   ]
  },
  {
   "cell_type": "code",
   "execution_count": 120,
   "metadata": {
    "slideshow": {
     "slide_type": "skip"
    }
   },
   "outputs": [
    {
     "name": "stdout",
     "output_type": "stream",
     "text": [
      "The autoreload extension is already loaded. To reload it, use:\n",
      "  %reload_ext autoreload\n"
     ]
    }
   ],
   "source": [
    "%load_ext autoreload\n",
    "%autoreload 2\n",
    "\n",
    "import pandas as pd\n",
    "import numpy as np \n",
    "import matplotlib.pyplot as plt\n",
    "import seaborn as sns\n",
    "import statsmodels.formula.api as smf"
   ]
  },
  {
   "cell_type": "markdown",
   "metadata": {},
   "source": [
    "### Loading data"
   ]
  },
  {
   "cell_type": "code",
   "execution_count": 147,
   "metadata": {
    "slideshow": {
     "slide_type": "skip"
    }
   },
   "outputs": [],
   "source": [
    "from olist.seller import Seller\n",
    "from olist.data import Olist\n",
    "data = Olist().get_data() #dictionary with all data from the dataset as DataFrames, stored in data.py\n",
    "sellers = Seller().get_training_data() #DataFrame prepared for this analysis, stored in seller.py"
   ]
  },
  {
   "cell_type": "markdown",
   "metadata": {},
   "source": [
    "### Displaying dataframe"
   ]
  },
  {
   "cell_type": "code",
   "execution_count": 122,
   "metadata": {
    "slideshow": {
     "slide_type": "skip"
    }
   },
   "outputs": [
    {
     "data": {
      "text/html": [
       "<div>\n",
       "<style scoped>\n",
       "    .dataframe tbody tr th:only-of-type {\n",
       "        vertical-align: middle;\n",
       "    }\n",
       "\n",
       "    .dataframe tbody tr th {\n",
       "        vertical-align: top;\n",
       "    }\n",
       "\n",
       "    .dataframe thead th {\n",
       "        text-align: right;\n",
       "    }\n",
       "</style>\n",
       "<table border=\"1\" class=\"dataframe\">\n",
       "  <thead>\n",
       "    <tr style=\"text-align: right;\">\n",
       "      <th></th>\n",
       "      <th>seller_id</th>\n",
       "      <th>seller_city</th>\n",
       "      <th>seller_state</th>\n",
       "      <th>delay_to_carrier</th>\n",
       "      <th>wait_time</th>\n",
       "      <th>date_first_sale</th>\n",
       "      <th>date_last_sale</th>\n",
       "      <th>months_on_olist</th>\n",
       "      <th>n_orders</th>\n",
       "      <th>quantity</th>\n",
       "      <th>quantity_per_order</th>\n",
       "      <th>sales</th>\n",
       "      <th>share_of_five_stars</th>\n",
       "      <th>share_of_one_stars</th>\n",
       "      <th>review_score</th>\n",
       "    </tr>\n",
       "  </thead>\n",
       "  <tbody>\n",
       "    <tr>\n",
       "      <th>0</th>\n",
       "      <td>3442f8959a84dea7ee197c632cb2df15</td>\n",
       "      <td>campinas</td>\n",
       "      <td>SP</td>\n",
       "      <td>0.000000</td>\n",
       "      <td>13.018588</td>\n",
       "      <td>2017-05-05 16:25:11</td>\n",
       "      <td>2017-08-30 12:50:19</td>\n",
       "      <td>4.0</td>\n",
       "      <td>3</td>\n",
       "      <td>3</td>\n",
       "      <td>1.000</td>\n",
       "      <td>218.70</td>\n",
       "      <td>0.333333</td>\n",
       "      <td>0.333333</td>\n",
       "      <td>3.00</td>\n",
       "    </tr>\n",
       "    <tr>\n",
       "      <th>1</th>\n",
       "      <td>d1b65fc7debc3361ea86b5f14c68d2e2</td>\n",
       "      <td>mogi guacu</td>\n",
       "      <td>SP</td>\n",
       "      <td>0.000000</td>\n",
       "      <td>9.065716</td>\n",
       "      <td>2017-03-29 02:10:34</td>\n",
       "      <td>2018-06-06 20:15:21</td>\n",
       "      <td>14.0</td>\n",
       "      <td>40</td>\n",
       "      <td>41</td>\n",
       "      <td>1.025</td>\n",
       "      <td>11703.07</td>\n",
       "      <td>0.725000</td>\n",
       "      <td>0.050000</td>\n",
       "      <td>4.55</td>\n",
       "    </tr>\n",
       "    <tr>\n",
       "      <th>2</th>\n",
       "      <td>ce3ad9de960102d0677a81f5d0bb7b2d</td>\n",
       "      <td>rio de janeiro</td>\n",
       "      <td>RJ</td>\n",
       "      <td>0.000000</td>\n",
       "      <td>4.042292</td>\n",
       "      <td>2018-07-30 12:44:49</td>\n",
       "      <td>2018-07-30 12:44:49</td>\n",
       "      <td>0.0</td>\n",
       "      <td>1</td>\n",
       "      <td>1</td>\n",
       "      <td>1.000</td>\n",
       "      <td>158.00</td>\n",
       "      <td>1.000000</td>\n",
       "      <td>0.000000</td>\n",
       "      <td>5.00</td>\n",
       "    </tr>\n",
       "    <tr>\n",
       "      <th>3</th>\n",
       "      <td>c0f3eea2e14555b6faeea3dd58c1b1c3</td>\n",
       "      <td>sao paulo</td>\n",
       "      <td>SP</td>\n",
       "      <td>0.000000</td>\n",
       "      <td>5.667187</td>\n",
       "      <td>2018-08-03 00:44:08</td>\n",
       "      <td>2018-08-03 00:44:08</td>\n",
       "      <td>0.0</td>\n",
       "      <td>1</td>\n",
       "      <td>1</td>\n",
       "      <td>1.000</td>\n",
       "      <td>79.99</td>\n",
       "      <td>1.000000</td>\n",
       "      <td>0.000000</td>\n",
       "      <td>5.00</td>\n",
       "    </tr>\n",
       "    <tr>\n",
       "      <th>4</th>\n",
       "      <td>51a04a8a6bdcb23deccc82b0b80742cf</td>\n",
       "      <td>braganca paulista</td>\n",
       "      <td>SP</td>\n",
       "      <td>3.353727</td>\n",
       "      <td>35.314861</td>\n",
       "      <td>2017-11-14 12:15:25</td>\n",
       "      <td>2017-11-14 12:15:25</td>\n",
       "      <td>0.0</td>\n",
       "      <td>1</td>\n",
       "      <td>1</td>\n",
       "      <td>1.000</td>\n",
       "      <td>167.99</td>\n",
       "      <td>0.000000</td>\n",
       "      <td>1.000000</td>\n",
       "      <td>1.00</td>\n",
       "    </tr>\n",
       "  </tbody>\n",
       "</table>\n",
       "</div>"
      ],
      "text/plain": [
       "                          seller_id        seller_city seller_state  \\\n",
       "0  3442f8959a84dea7ee197c632cb2df15           campinas           SP   \n",
       "1  d1b65fc7debc3361ea86b5f14c68d2e2         mogi guacu           SP   \n",
       "2  ce3ad9de960102d0677a81f5d0bb7b2d     rio de janeiro           RJ   \n",
       "3  c0f3eea2e14555b6faeea3dd58c1b1c3          sao paulo           SP   \n",
       "4  51a04a8a6bdcb23deccc82b0b80742cf  braganca paulista           SP   \n",
       "\n",
       "   delay_to_carrier  wait_time     date_first_sale      date_last_sale  \\\n",
       "0          0.000000  13.018588 2017-05-05 16:25:11 2017-08-30 12:50:19   \n",
       "1          0.000000   9.065716 2017-03-29 02:10:34 2018-06-06 20:15:21   \n",
       "2          0.000000   4.042292 2018-07-30 12:44:49 2018-07-30 12:44:49   \n",
       "3          0.000000   5.667187 2018-08-03 00:44:08 2018-08-03 00:44:08   \n",
       "4          3.353727  35.314861 2017-11-14 12:15:25 2017-11-14 12:15:25   \n",
       "\n",
       "   months_on_olist  n_orders  quantity  quantity_per_order     sales  \\\n",
       "0              4.0         3         3               1.000    218.70   \n",
       "1             14.0        40        41               1.025  11703.07   \n",
       "2              0.0         1         1               1.000    158.00   \n",
       "3              0.0         1         1               1.000     79.99   \n",
       "4              0.0         1         1               1.000    167.99   \n",
       "\n",
       "   share_of_five_stars  share_of_one_stars  review_score  \n",
       "0             0.333333            0.333333          3.00  \n",
       "1             0.725000            0.050000          4.55  \n",
       "2             1.000000            0.000000          5.00  \n",
       "3             1.000000            0.000000          5.00  \n",
       "4             0.000000            1.000000          1.00  "
      ]
     },
     "metadata": {},
     "output_type": "display_data"
    },
    {
     "data": {
      "text/html": [
       "<div>\n",
       "<style scoped>\n",
       "    .dataframe tbody tr th:only-of-type {\n",
       "        vertical-align: middle;\n",
       "    }\n",
       "\n",
       "    .dataframe tbody tr th {\n",
       "        vertical-align: top;\n",
       "    }\n",
       "\n",
       "    .dataframe thead th {\n",
       "        text-align: right;\n",
       "    }\n",
       "</style>\n",
       "<table border=\"1\" class=\"dataframe\">\n",
       "  <thead>\n",
       "    <tr style=\"text-align: right;\">\n",
       "      <th></th>\n",
       "      <th>delay_to_carrier</th>\n",
       "      <th>wait_time</th>\n",
       "      <th>months_on_olist</th>\n",
       "      <th>n_orders</th>\n",
       "      <th>quantity</th>\n",
       "      <th>quantity_per_order</th>\n",
       "      <th>sales</th>\n",
       "      <th>share_of_five_stars</th>\n",
       "      <th>share_of_one_stars</th>\n",
       "      <th>review_score</th>\n",
       "    </tr>\n",
       "  </thead>\n",
       "  <tbody>\n",
       "    <tr>\n",
       "      <th>count</th>\n",
       "      <td>2967.000000</td>\n",
       "      <td>2967.000000</td>\n",
       "      <td>2967.000000</td>\n",
       "      <td>2967.000000</td>\n",
       "      <td>2967.000000</td>\n",
       "      <td>2967.000000</td>\n",
       "      <td>2967.000000</td>\n",
       "      <td>2967.000000</td>\n",
       "      <td>2967.000000</td>\n",
       "      <td>2967.000000</td>\n",
       "    </tr>\n",
       "    <tr>\n",
       "      <th>mean</th>\n",
       "      <td>0.385636</td>\n",
       "      <td>12.139417</td>\n",
       "      <td>6.025615</td>\n",
       "      <td>33.650489</td>\n",
       "      <td>37.897203</td>\n",
       "      <td>1.157337</td>\n",
       "      <td>4568.852187</td>\n",
       "      <td>0.595077</td>\n",
       "      <td>0.120886</td>\n",
       "      <td>4.101513</td>\n",
       "    </tr>\n",
       "    <tr>\n",
       "      <th>std</th>\n",
       "      <td>2.295812</td>\n",
       "      <td>7.069233</td>\n",
       "      <td>5.994211</td>\n",
       "      <td>107.182856</td>\n",
       "      <td>121.514362</td>\n",
       "      <td>0.439557</td>\n",
       "      <td>14191.836779</td>\n",
       "      <td>0.278763</td>\n",
       "      <td>0.188857</td>\n",
       "      <td>0.801517</td>\n",
       "    </tr>\n",
       "    <tr>\n",
       "      <th>min</th>\n",
       "      <td>0.000000</td>\n",
       "      <td>1.214178</td>\n",
       "      <td>0.000000</td>\n",
       "      <td>1.000000</td>\n",
       "      <td>1.000000</td>\n",
       "      <td>1.000000</td>\n",
       "      <td>6.500000</td>\n",
       "      <td>0.000000</td>\n",
       "      <td>0.000000</td>\n",
       "      <td>1.000000</td>\n",
       "    </tr>\n",
       "    <tr>\n",
       "      <th>25%</th>\n",
       "      <td>0.000000</td>\n",
       "      <td>8.287658</td>\n",
       "      <td>1.000000</td>\n",
       "      <td>2.000000</td>\n",
       "      <td>3.000000</td>\n",
       "      <td>1.000000</td>\n",
       "      <td>239.850000</td>\n",
       "      <td>0.493022</td>\n",
       "      <td>0.000000</td>\n",
       "      <td>3.846154</td>\n",
       "    </tr>\n",
       "    <tr>\n",
       "      <th>50%</th>\n",
       "      <td>0.000000</td>\n",
       "      <td>11.115143</td>\n",
       "      <td>4.000000</td>\n",
       "      <td>7.000000</td>\n",
       "      <td>8.000000</td>\n",
       "      <td>1.000000</td>\n",
       "      <td>896.000000</td>\n",
       "      <td>0.600000</td>\n",
       "      <td>0.058824</td>\n",
       "      <td>4.210526</td>\n",
       "    </tr>\n",
       "    <tr>\n",
       "      <th>75%</th>\n",
       "      <td>0.000000</td>\n",
       "      <td>14.231984</td>\n",
       "      <td>10.000000</td>\n",
       "      <td>23.000000</td>\n",
       "      <td>26.000000</td>\n",
       "      <td>1.142857</td>\n",
       "      <td>3583.995000</td>\n",
       "      <td>0.750000</td>\n",
       "      <td>0.159043</td>\n",
       "      <td>4.626453</td>\n",
       "    </tr>\n",
       "    <tr>\n",
       "      <th>max</th>\n",
       "      <td>45.434039</td>\n",
       "      <td>189.863160</td>\n",
       "      <td>23.000000</td>\n",
       "      <td>1854.000000</td>\n",
       "      <td>2033.000000</td>\n",
       "      <td>15.000000</td>\n",
       "      <td>229472.630000</td>\n",
       "      <td>1.000000</td>\n",
       "      <td>1.000000</td>\n",
       "      <td>5.000000</td>\n",
       "    </tr>\n",
       "  </tbody>\n",
       "</table>\n",
       "</div>"
      ],
      "text/plain": [
       "       delay_to_carrier    wait_time  months_on_olist     n_orders  \\\n",
       "count       2967.000000  2967.000000      2967.000000  2967.000000   \n",
       "mean           0.385636    12.139417         6.025615    33.650489   \n",
       "std            2.295812     7.069233         5.994211   107.182856   \n",
       "min            0.000000     1.214178         0.000000     1.000000   \n",
       "25%            0.000000     8.287658         1.000000     2.000000   \n",
       "50%            0.000000    11.115143         4.000000     7.000000   \n",
       "75%            0.000000    14.231984        10.000000    23.000000   \n",
       "max           45.434039   189.863160        23.000000  1854.000000   \n",
       "\n",
       "          quantity  quantity_per_order          sales  share_of_five_stars  \\\n",
       "count  2967.000000         2967.000000    2967.000000          2967.000000   \n",
       "mean     37.897203            1.157337    4568.852187             0.595077   \n",
       "std     121.514362            0.439557   14191.836779             0.278763   \n",
       "min       1.000000            1.000000       6.500000             0.000000   \n",
       "25%       3.000000            1.000000     239.850000             0.493022   \n",
       "50%       8.000000            1.000000     896.000000             0.600000   \n",
       "75%      26.000000            1.142857    3583.995000             0.750000   \n",
       "max    2033.000000           15.000000  229472.630000             1.000000   \n",
       "\n",
       "       share_of_one_stars  review_score  \n",
       "count         2967.000000   2967.000000  \n",
       "mean             0.120886      4.101513  \n",
       "std              0.188857      0.801517  \n",
       "min              0.000000      1.000000  \n",
       "25%              0.000000      3.846154  \n",
       "50%              0.058824      4.210526  \n",
       "75%              0.159043      4.626453  \n",
       "max              1.000000      5.000000  "
      ]
     },
     "metadata": {},
     "output_type": "display_data"
    }
   ],
   "source": [
    "display(sellers.head(5))\n",
    "display(sellers.describe())"
   ]
  },
  {
   "cell_type": "markdown",
   "metadata": {},
   "source": [
    "We can see that the Sellers dataframe consists of 2967 entries representing unique sellers on the Olist platform with the following features:\n",
    "  \n",
    "| feature_name \t| type \t| description \t|\n",
    "|:---\t|:---:\t|:---\t|\n",
    "| `seller_id` \t| str \t| the id of the seller **UNIQUE** \t|\n",
    "| `seller_city` \t| str \t| the city where seller is located \t|\n",
    "| `seller_state` \t| str \t| the state where seller is located \t|\n",
    "| `delay_to_carrier` \t| float \t| returns 0 if the order is delivered before the shipping_limit_date, otherwise the value of the delay \t|\n",
    "| `wait_time` \t| float \t| average wait_time (duration of deliveries) per seller \t|\n",
    "| `date_first_sale` \t| datetime \t| date of the first sale on Olist \t|\n",
    "| `date_last_sale` \t| datetime \t| date of the last sale on Olist \t|\n",
    "| `months_on_olist` \t| float \t| round number of months  on Olist\t|\n",
    "| `share_of_five_stars` \t| float \t| share of five-star reviews for orders in which the seller was involved \t|\n",
    "| `share_of_one_stars` \t| float \t| share of one-star reviews for orders in which the seller was involved \t|\n",
    "| `review_score` \t| float \t| average review score for orders in which the seller was involved \t|\n",
    "| `n_orders` \t| int \t| number of unique orders the seller was involved with \t|\n",
    "| `quantity` \t| int \t| total number of items sold by this seller \t|\n",
    "| `quantity_per_order` \t| float \t| average number of items per order for this seller \t|\n",
    "| `sales` \t| float \t| total sales associated with this seller (excluding freight value) in BRL \t|  "
   ]
  },
  {
   "cell_type": "markdown",
   "metadata": {},
   "source": [
    "## Data Preparation"
   ]
  },
  {
   "cell_type": "markdown",
   "metadata": {},
   "source": [
    "For each seller, compute the cumulated:\n",
    "- `revenue` the seller brings to Olist: sum of subscription and sales fees revenues.\n",
    "- `cost_of_reviews` associated with all the seller's bad reviews: sum of costs associated with bad reviews.\n",
    "- resulting `profits`: revenues - costs.\n",
    "- `n_products`, the number of products the seller has sold: taken from the quantity colum of the sellers DataFrame."
   ]
  },
  {
   "cell_type": "markdown",
   "metadata": {},
   "source": [
    "### Calculating revenue per seller"
   ]
  },
  {
   "cell_type": "code",
   "execution_count": 123,
   "metadata": {
    "slideshow": {
     "slide_type": "skip"
    }
   },
   "outputs": [
    {
     "data": {
      "text/html": [
       "<div>\n",
       "<style scoped>\n",
       "    .dataframe tbody tr th:only-of-type {\n",
       "        vertical-align: middle;\n",
       "    }\n",
       "\n",
       "    .dataframe tbody tr th {\n",
       "        vertical-align: top;\n",
       "    }\n",
       "\n",
       "    .dataframe thead th {\n",
       "        text-align: right;\n",
       "    }\n",
       "</style>\n",
       "<table border=\"1\" class=\"dataframe\">\n",
       "  <thead>\n",
       "    <tr style=\"text-align: right;\">\n",
       "      <th></th>\n",
       "      <th>seller_id</th>\n",
       "      <th>revenue</th>\n",
       "    </tr>\n",
       "  </thead>\n",
       "  <tbody>\n",
       "    <tr>\n",
       "      <th>0</th>\n",
       "      <td>3442f8959a84dea7ee197c632cb2df15</td>\n",
       "      <td>341.870</td>\n",
       "    </tr>\n",
       "    <tr>\n",
       "      <th>1</th>\n",
       "      <td>d1b65fc7debc3361ea86b5f14c68d2e2</td>\n",
       "      <td>2290.307</td>\n",
       "    </tr>\n",
       "    <tr>\n",
       "      <th>2</th>\n",
       "      <td>ce3ad9de960102d0677a81f5d0bb7b2d</td>\n",
       "      <td>15.800</td>\n",
       "    </tr>\n",
       "    <tr>\n",
       "      <th>3</th>\n",
       "      <td>c0f3eea2e14555b6faeea3dd58c1b1c3</td>\n",
       "      <td>7.999</td>\n",
       "    </tr>\n",
       "    <tr>\n",
       "      <th>4</th>\n",
       "      <td>51a04a8a6bdcb23deccc82b0b80742cf</td>\n",
       "      <td>16.799</td>\n",
       "    </tr>\n",
       "    <tr>\n",
       "      <th>...</th>\n",
       "      <td>...</td>\n",
       "      <td>...</td>\n",
       "    </tr>\n",
       "    <tr>\n",
       "      <th>2962</th>\n",
       "      <td>98dddbc4601dd4443ca174359b237166</td>\n",
       "      <td>15.800</td>\n",
       "    </tr>\n",
       "    <tr>\n",
       "      <th>2963</th>\n",
       "      <td>f8201cab383e484733266d1906e2fdfa</td>\n",
       "      <td>1208.900</td>\n",
       "    </tr>\n",
       "    <tr>\n",
       "      <th>2964</th>\n",
       "      <td>74871d19219c7d518d0090283e03c137</td>\n",
       "      <td>455.004</td>\n",
       "    </tr>\n",
       "    <tr>\n",
       "      <th>2965</th>\n",
       "      <td>e603cf3fec55f8697c9059638d6c8eb5</td>\n",
       "      <td>349.700</td>\n",
       "    </tr>\n",
       "    <tr>\n",
       "      <th>2966</th>\n",
       "      <td>9e25199f6ef7e7c347120ff175652c3b</td>\n",
       "      <td>1.250</td>\n",
       "    </tr>\n",
       "  </tbody>\n",
       "</table>\n",
       "<p>2967 rows × 2 columns</p>\n",
       "</div>"
      ],
      "text/plain": [
       "                             seller_id   revenue\n",
       "0     3442f8959a84dea7ee197c632cb2df15   341.870\n",
       "1     d1b65fc7debc3361ea86b5f14c68d2e2  2290.307\n",
       "2     ce3ad9de960102d0677a81f5d0bb7b2d    15.800\n",
       "3     c0f3eea2e14555b6faeea3dd58c1b1c3     7.999\n",
       "4     51a04a8a6bdcb23deccc82b0b80742cf    16.799\n",
       "...                                ...       ...\n",
       "2962  98dddbc4601dd4443ca174359b237166    15.800\n",
       "2963  f8201cab383e484733266d1906e2fdfa  1208.900\n",
       "2964  74871d19219c7d518d0090283e03c137   455.004\n",
       "2965  e603cf3fec55f8697c9059638d6c8eb5   349.700\n",
       "2966  9e25199f6ef7e7c347120ff175652c3b     1.250\n",
       "\n",
       "[2967 rows x 2 columns]"
      ]
     },
     "execution_count": 123,
     "metadata": {},
     "output_type": "execute_result"
    }
   ],
   "source": [
    "seller_df = pd.DataFrame()\n",
    "seller_df['seller_id']=sellers['seller_id']\n",
    "seller_df['revenue']=((.1 * sellers['sales'])+(80*sellers['months_on_olist']))\n",
    "seller_df"
   ]
  },
  {
   "cell_type": "markdown",
   "metadata": {},
   "source": [
    "### Calculating cost of reviews per seller"
   ]
  },
  {
   "cell_type": "code",
   "execution_count": 124,
   "metadata": {
    "slideshow": {
     "slide_type": "skip"
    }
   },
   "outputs": [
    {
     "data": {
      "text/html": [
       "<div>\n",
       "<style scoped>\n",
       "    .dataframe tbody tr th:only-of-type {\n",
       "        vertical-align: middle;\n",
       "    }\n",
       "\n",
       "    .dataframe tbody tr th {\n",
       "        vertical-align: top;\n",
       "    }\n",
       "\n",
       "    .dataframe thead th {\n",
       "        text-align: right;\n",
       "    }\n",
       "</style>\n",
       "<table border=\"1\" class=\"dataframe\">\n",
       "  <thead>\n",
       "    <tr style=\"text-align: right;\">\n",
       "      <th></th>\n",
       "      <th>seller_id</th>\n",
       "      <th>cost_of_reviews</th>\n",
       "      <th>revenue</th>\n",
       "    </tr>\n",
       "  </thead>\n",
       "  <tbody>\n",
       "    <tr>\n",
       "      <th>0</th>\n",
       "      <td>0015a82c2db000af6aaaf3ae2ecb0532</td>\n",
       "      <td>100</td>\n",
       "      <td>348.500</td>\n",
       "    </tr>\n",
       "    <tr>\n",
       "      <th>1</th>\n",
       "      <td>001cca7ae9ae17fb1caed9dfb1094831</td>\n",
       "      <td>3560</td>\n",
       "      <td>3868.003</td>\n",
       "    </tr>\n",
       "    <tr>\n",
       "      <th>2</th>\n",
       "      <td>002100f778ceb8431b7a1020ff7ab48f</td>\n",
       "      <td>1110</td>\n",
       "      <td>683.450</td>\n",
       "    </tr>\n",
       "    <tr>\n",
       "      <th>3</th>\n",
       "      <td>003554e2dce176b5555353e4f3555ac8</td>\n",
       "      <td>0</td>\n",
       "      <td>12.000</td>\n",
       "    </tr>\n",
       "    <tr>\n",
       "      <th>4</th>\n",
       "      <td>004c9cd9d87a3c30c522c48c4fc07416</td>\n",
       "      <td>2430</td>\n",
       "      <td>3171.271</td>\n",
       "    </tr>\n",
       "    <tr>\n",
       "      <th>...</th>\n",
       "      <td>...</td>\n",
       "      <td>...</td>\n",
       "      <td>...</td>\n",
       "    </tr>\n",
       "    <tr>\n",
       "      <th>2962</th>\n",
       "      <td>ffc470761de7d0232558ba5e786e57b7</td>\n",
       "      <td>260</td>\n",
       "      <td>644.901</td>\n",
       "    </tr>\n",
       "    <tr>\n",
       "      <th>2963</th>\n",
       "      <td>ffdd9f82b9a447f6f8d4b91554cc7dd3</td>\n",
       "      <td>190</td>\n",
       "      <td>1650.120</td>\n",
       "    </tr>\n",
       "    <tr>\n",
       "      <th>2964</th>\n",
       "      <td>ffeee66ac5d5a62fe688b9d26f83f534</td>\n",
       "      <td>200</td>\n",
       "      <td>743.986</td>\n",
       "    </tr>\n",
       "    <tr>\n",
       "      <th>2965</th>\n",
       "      <td>fffd5413c0700ac820c7069d66d98c89</td>\n",
       "      <td>1360</td>\n",
       "      <td>1946.230</td>\n",
       "    </tr>\n",
       "    <tr>\n",
       "      <th>2966</th>\n",
       "      <td>ffff564a4f9085cd26170f4732393726</td>\n",
       "      <td>1420</td>\n",
       "      <td>622.630</td>\n",
       "    </tr>\n",
       "  </tbody>\n",
       "</table>\n",
       "<p>2967 rows × 3 columns</p>\n",
       "</div>"
      ],
      "text/plain": [
       "                             seller_id  cost_of_reviews   revenue\n",
       "0     0015a82c2db000af6aaaf3ae2ecb0532              100   348.500\n",
       "1     001cca7ae9ae17fb1caed9dfb1094831             3560  3868.003\n",
       "2     002100f778ceb8431b7a1020ff7ab48f             1110   683.450\n",
       "3     003554e2dce176b5555353e4f3555ac8                0    12.000\n",
       "4     004c9cd9d87a3c30c522c48c4fc07416             2430  3171.271\n",
       "...                                ...              ...       ...\n",
       "2962  ffc470761de7d0232558ba5e786e57b7              260   644.901\n",
       "2963  ffdd9f82b9a447f6f8d4b91554cc7dd3              190  1650.120\n",
       "2964  ffeee66ac5d5a62fe688b9d26f83f534              200   743.986\n",
       "2965  fffd5413c0700ac820c7069d66d98c89             1360  1946.230\n",
       "2966  ffff564a4f9085cd26170f4732393726             1420   622.630\n",
       "\n",
       "[2967 rows x 3 columns]"
      ]
     },
     "execution_count": 124,
     "metadata": {},
     "output_type": "execute_result"
    }
   ],
   "source": [
    "'''first get the seller_id's from the order_items table and merge them \n",
    "with the order_reviews table to match reviews and sellers'''\n",
    "order_sellers = data['order_items'][['order_id','seller_id']].drop_duplicates()\n",
    "tmp = order_sellers.merge(data['order_reviews'], on='order_id')\n",
    "\n",
    "#map the costs onto the review scores\n",
    "tmp['cost_of_reviews'] = tmp.review_score.map({1: 100,\n",
    "2: 50,\n",
    "3: 40,\n",
    "4: 0,\n",
    "5: 0,})\n",
    "\n",
    "#group by seller_id and sum up the costs of all of their reviews\n",
    "tmp = tmp[['seller_id','cost_of_reviews']].groupby('seller_id',as_index=False).agg({'cost_of_reviews':'sum'})\n",
    "\n",
    "#merge the summed cost onto our seller_df table\n",
    "seller_df = tmp.merge(seller_df, on='seller_id')\n",
    "seller_df"
   ]
  },
  {
   "cell_type": "markdown",
   "metadata": {},
   "source": [
    "### Calculating profit per seller"
   ]
  },
  {
   "cell_type": "code",
   "execution_count": 125,
   "metadata": {
    "slideshow": {
     "slide_type": "skip"
    }
   },
   "outputs": [
    {
     "data": {
      "text/html": [
       "<div>\n",
       "<style scoped>\n",
       "    .dataframe tbody tr th:only-of-type {\n",
       "        vertical-align: middle;\n",
       "    }\n",
       "\n",
       "    .dataframe tbody tr th {\n",
       "        vertical-align: top;\n",
       "    }\n",
       "\n",
       "    .dataframe thead th {\n",
       "        text-align: right;\n",
       "    }\n",
       "</style>\n",
       "<table border=\"1\" class=\"dataframe\">\n",
       "  <thead>\n",
       "    <tr style=\"text-align: right;\">\n",
       "      <th></th>\n",
       "      <th>seller_id</th>\n",
       "      <th>cost_of_reviews</th>\n",
       "      <th>revenue</th>\n",
       "      <th>profits</th>\n",
       "    </tr>\n",
       "  </thead>\n",
       "  <tbody>\n",
       "    <tr>\n",
       "      <th>0</th>\n",
       "      <td>0015a82c2db000af6aaaf3ae2ecb0532</td>\n",
       "      <td>100</td>\n",
       "      <td>348.500</td>\n",
       "      <td>248.500</td>\n",
       "    </tr>\n",
       "    <tr>\n",
       "      <th>1</th>\n",
       "      <td>001cca7ae9ae17fb1caed9dfb1094831</td>\n",
       "      <td>3560</td>\n",
       "      <td>3868.003</td>\n",
       "      <td>308.003</td>\n",
       "    </tr>\n",
       "    <tr>\n",
       "      <th>2</th>\n",
       "      <td>002100f778ceb8431b7a1020ff7ab48f</td>\n",
       "      <td>1110</td>\n",
       "      <td>683.450</td>\n",
       "      <td>-426.550</td>\n",
       "    </tr>\n",
       "    <tr>\n",
       "      <th>3</th>\n",
       "      <td>003554e2dce176b5555353e4f3555ac8</td>\n",
       "      <td>0</td>\n",
       "      <td>12.000</td>\n",
       "      <td>12.000</td>\n",
       "    </tr>\n",
       "    <tr>\n",
       "      <th>4</th>\n",
       "      <td>004c9cd9d87a3c30c522c48c4fc07416</td>\n",
       "      <td>2430</td>\n",
       "      <td>3171.271</td>\n",
       "      <td>741.271</td>\n",
       "    </tr>\n",
       "    <tr>\n",
       "      <th>...</th>\n",
       "      <td>...</td>\n",
       "      <td>...</td>\n",
       "      <td>...</td>\n",
       "      <td>...</td>\n",
       "    </tr>\n",
       "    <tr>\n",
       "      <th>2962</th>\n",
       "      <td>ffc470761de7d0232558ba5e786e57b7</td>\n",
       "      <td>260</td>\n",
       "      <td>644.901</td>\n",
       "      <td>384.901</td>\n",
       "    </tr>\n",
       "    <tr>\n",
       "      <th>2963</th>\n",
       "      <td>ffdd9f82b9a447f6f8d4b91554cc7dd3</td>\n",
       "      <td>190</td>\n",
       "      <td>1650.120</td>\n",
       "      <td>1460.120</td>\n",
       "    </tr>\n",
       "    <tr>\n",
       "      <th>2964</th>\n",
       "      <td>ffeee66ac5d5a62fe688b9d26f83f534</td>\n",
       "      <td>200</td>\n",
       "      <td>743.986</td>\n",
       "      <td>543.986</td>\n",
       "    </tr>\n",
       "    <tr>\n",
       "      <th>2965</th>\n",
       "      <td>fffd5413c0700ac820c7069d66d98c89</td>\n",
       "      <td>1360</td>\n",
       "      <td>1946.230</td>\n",
       "      <td>586.230</td>\n",
       "    </tr>\n",
       "    <tr>\n",
       "      <th>2966</th>\n",
       "      <td>ffff564a4f9085cd26170f4732393726</td>\n",
       "      <td>1420</td>\n",
       "      <td>622.630</td>\n",
       "      <td>-797.370</td>\n",
       "    </tr>\n",
       "  </tbody>\n",
       "</table>\n",
       "<p>2967 rows × 4 columns</p>\n",
       "</div>"
      ],
      "text/plain": [
       "                             seller_id  cost_of_reviews   revenue   profits\n",
       "0     0015a82c2db000af6aaaf3ae2ecb0532              100   348.500   248.500\n",
       "1     001cca7ae9ae17fb1caed9dfb1094831             3560  3868.003   308.003\n",
       "2     002100f778ceb8431b7a1020ff7ab48f             1110   683.450  -426.550\n",
       "3     003554e2dce176b5555353e4f3555ac8                0    12.000    12.000\n",
       "4     004c9cd9d87a3c30c522c48c4fc07416             2430  3171.271   741.271\n",
       "...                                ...              ...       ...       ...\n",
       "2962  ffc470761de7d0232558ba5e786e57b7              260   644.901   384.901\n",
       "2963  ffdd9f82b9a447f6f8d4b91554cc7dd3              190  1650.120  1460.120\n",
       "2964  ffeee66ac5d5a62fe688b9d26f83f534              200   743.986   543.986\n",
       "2965  fffd5413c0700ac820c7069d66d98c89             1360  1946.230   586.230\n",
       "2966  ffff564a4f9085cd26170f4732393726             1420   622.630  -797.370\n",
       "\n",
       "[2967 rows x 4 columns]"
      ]
     },
     "execution_count": 125,
     "metadata": {},
     "output_type": "execute_result"
    }
   ],
   "source": [
    "seller_df['profits'] = seller_df['revenue']-seller_df['cost_of_reviews']\n",
    "seller_df"
   ]
  },
  {
   "cell_type": "markdown",
   "metadata": {},
   "source": [
    "### Getting the number of products each seller has sold"
   ]
  },
  {
   "cell_type": "code",
   "execution_count": 126,
   "metadata": {
    "slideshow": {
     "slide_type": "skip"
    }
   },
   "outputs": [
    {
     "data": {
      "text/html": [
       "<div>\n",
       "<style scoped>\n",
       "    .dataframe tbody tr th:only-of-type {\n",
       "        vertical-align: middle;\n",
       "    }\n",
       "\n",
       "    .dataframe tbody tr th {\n",
       "        vertical-align: top;\n",
       "    }\n",
       "\n",
       "    .dataframe thead th {\n",
       "        text-align: right;\n",
       "    }\n",
       "</style>\n",
       "<table border=\"1\" class=\"dataframe\">\n",
       "  <thead>\n",
       "    <tr style=\"text-align: right;\">\n",
       "      <th></th>\n",
       "      <th>seller_id</th>\n",
       "      <th>n_products</th>\n",
       "    </tr>\n",
       "  </thead>\n",
       "  <tbody>\n",
       "    <tr>\n",
       "      <th>0</th>\n",
       "      <td>3442f8959a84dea7ee197c632cb2df15</td>\n",
       "      <td>3</td>\n",
       "    </tr>\n",
       "    <tr>\n",
       "      <th>1</th>\n",
       "      <td>d1b65fc7debc3361ea86b5f14c68d2e2</td>\n",
       "      <td>41</td>\n",
       "    </tr>\n",
       "    <tr>\n",
       "      <th>2</th>\n",
       "      <td>ce3ad9de960102d0677a81f5d0bb7b2d</td>\n",
       "      <td>1</td>\n",
       "    </tr>\n",
       "    <tr>\n",
       "      <th>3</th>\n",
       "      <td>c0f3eea2e14555b6faeea3dd58c1b1c3</td>\n",
       "      <td>1</td>\n",
       "    </tr>\n",
       "    <tr>\n",
       "      <th>4</th>\n",
       "      <td>51a04a8a6bdcb23deccc82b0b80742cf</td>\n",
       "      <td>1</td>\n",
       "    </tr>\n",
       "    <tr>\n",
       "      <th>...</th>\n",
       "      <td>...</td>\n",
       "      <td>...</td>\n",
       "    </tr>\n",
       "    <tr>\n",
       "      <th>2962</th>\n",
       "      <td>98dddbc4601dd4443ca174359b237166</td>\n",
       "      <td>2</td>\n",
       "    </tr>\n",
       "    <tr>\n",
       "      <th>2963</th>\n",
       "      <td>f8201cab383e484733266d1906e2fdfa</td>\n",
       "      <td>10</td>\n",
       "    </tr>\n",
       "    <tr>\n",
       "      <th>2964</th>\n",
       "      <td>74871d19219c7d518d0090283e03c137</td>\n",
       "      <td>7</td>\n",
       "    </tr>\n",
       "    <tr>\n",
       "      <th>2965</th>\n",
       "      <td>e603cf3fec55f8697c9059638d6c8eb5</td>\n",
       "      <td>11</td>\n",
       "    </tr>\n",
       "    <tr>\n",
       "      <th>2966</th>\n",
       "      <td>9e25199f6ef7e7c347120ff175652c3b</td>\n",
       "      <td>1</td>\n",
       "    </tr>\n",
       "  </tbody>\n",
       "</table>\n",
       "<p>2967 rows × 2 columns</p>\n",
       "</div>"
      ],
      "text/plain": [
       "                             seller_id  n_products\n",
       "0     3442f8959a84dea7ee197c632cb2df15           3\n",
       "1     d1b65fc7debc3361ea86b5f14c68d2e2          41\n",
       "2     ce3ad9de960102d0677a81f5d0bb7b2d           1\n",
       "3     c0f3eea2e14555b6faeea3dd58c1b1c3           1\n",
       "4     51a04a8a6bdcb23deccc82b0b80742cf           1\n",
       "...                                ...         ...\n",
       "2962  98dddbc4601dd4443ca174359b237166           2\n",
       "2963  f8201cab383e484733266d1906e2fdfa          10\n",
       "2964  74871d19219c7d518d0090283e03c137           7\n",
       "2965  e603cf3fec55f8697c9059638d6c8eb5          11\n",
       "2966  9e25199f6ef7e7c347120ff175652c3b           1\n",
       "\n",
       "[2967 rows x 2 columns]"
      ]
     },
     "execution_count": 126,
     "metadata": {},
     "output_type": "execute_result"
    }
   ],
   "source": [
    "num_of_products = sellers[['seller_id','quantity']].rename(columns={'quantity': 'n_products'}) #isolating number of products by seller id\n",
    "num_of_products"
   ]
  },
  {
   "cell_type": "markdown",
   "metadata": {
    "slideshow": {
     "slide_type": "skip"
    }
   },
   "source": [
    "### Displaying data in one table"
   ]
  },
  {
   "cell_type": "code",
   "execution_count": 127,
   "metadata": {
    "slideshow": {
     "slide_type": "skip"
    }
   },
   "outputs": [],
   "source": [
    "seller_df = num_of_products.merge(seller_df, on='seller_id') #merging number of products on seller_df\n",
    "sorted_df = seller_df.sort_values(by='profits')[['profits', 'n_products', 'revenue']].reset_index() #sorting sellers by lowest profits to highest"
   ]
  },
  {
   "cell_type": "code",
   "execution_count": 128,
   "metadata": {
    "slideshow": {
     "slide_type": "subslide"
    }
   },
   "outputs": [
    {
     "data": {
      "text/html": [
       "<div>\n",
       "<style scoped>\n",
       "    .dataframe tbody tr th:only-of-type {\n",
       "        vertical-align: middle;\n",
       "    }\n",
       "\n",
       "    .dataframe tbody tr th {\n",
       "        vertical-align: top;\n",
       "    }\n",
       "\n",
       "    .dataframe thead th {\n",
       "        text-align: right;\n",
       "    }\n",
       "</style>\n",
       "<table border=\"1\" class=\"dataframe\">\n",
       "  <thead>\n",
       "    <tr style=\"text-align: right;\">\n",
       "      <th></th>\n",
       "      <th>index</th>\n",
       "      <th>profits</th>\n",
       "      <th>n_products</th>\n",
       "      <th>revenue</th>\n",
       "    </tr>\n",
       "  </thead>\n",
       "  <tbody>\n",
       "    <tr>\n",
       "      <th>0</th>\n",
       "      <td>769</td>\n",
       "      <td>-21519.517</td>\n",
       "      <td>2033</td>\n",
       "      <td>13770.483</td>\n",
       "    </tr>\n",
       "    <tr>\n",
       "      <th>1</th>\n",
       "      <td>2358</td>\n",
       "      <td>-17752.708</td>\n",
       "      <td>1987</td>\n",
       "      <td>21647.292</td>\n",
       "    </tr>\n",
       "    <tr>\n",
       "      <th>2</th>\n",
       "      <td>1357</td>\n",
       "      <td>-17581.158</td>\n",
       "      <td>1775</td>\n",
       "      <td>11948.842</td>\n",
       "    </tr>\n",
       "    <tr>\n",
       "      <th>3</th>\n",
       "      <td>945</td>\n",
       "      <td>-15542.248</td>\n",
       "      <td>1203</td>\n",
       "      <td>4677.752</td>\n",
       "    </tr>\n",
       "    <tr>\n",
       "      <th>4</th>\n",
       "      <td>315</td>\n",
       "      <td>-12886.431</td>\n",
       "      <td>1018</td>\n",
       "      <td>2553.569</td>\n",
       "    </tr>\n",
       "  </tbody>\n",
       "</table>\n",
       "</div>"
      ],
      "text/plain": [
       "   index    profits  n_products    revenue\n",
       "0    769 -21519.517        2033  13770.483\n",
       "1   2358 -17752.708        1987  21647.292\n",
       "2   1357 -17581.158        1775  11948.842\n",
       "3    945 -15542.248        1203   4677.752\n",
       "4    315 -12886.431        1018   2553.569"
      ]
     },
     "metadata": {},
     "output_type": "display_data"
    },
    {
     "data": {
      "text/plain": [
       "(2967, 4)"
      ]
     },
     "metadata": {},
     "output_type": "display_data"
    }
   ],
   "source": [
    "display(sorted_df.head())\n",
    "display(sorted_df.shape)"
   ]
  },
  {
   "cell_type": "markdown",
   "metadata": {
    "slideshow": {
     "slide_type": "skip"
    }
   },
   "source": [
    "## Analysis"
   ]
  },
  {
   "cell_type": "markdown",
   "metadata": {
    "slideshow": {
     "slide_type": "skip"
    }
   },
   "source": [
    "### Visualization of seller's profits from worst to best"
   ]
  },
  {
   "cell_type": "code",
   "execution_count": 129,
   "metadata": {
    "slideshow": {
     "slide_type": "subslide"
    },
    "tags": [
     "remove_input"
    ]
   },
   "outputs": [
    {
     "data": {
      "image/png": "[encoded data removed]",
      "text/plain": [
       "<Figure size 1000x500 with 1 Axes>"
      ]
     },
     "metadata": {},
     "output_type": "display_data"
    }
   ],
   "source": [
    "plt.figure(figsize=(10,5))\n",
    "sorted_df.profits.plot()\n",
    "plt.title('Profit per seller')\n",
    "plt.xlabel('Sellers')\n",
    "plt.ylabel('BHR');"
   ]
  },
  {
   "cell_type": "markdown",
   "metadata": {
    "slideshow": {
     "slide_type": "fragment"
    }
   },
   "source": [
    "Findings:\n",
    "- Small amount of worst sellers contribute to large proportion of losses\n",
    "- Small amount of best sellers contribute to large proportion of profits\n",
    "- Most sellers do not contribute much to profit or losses"
   ]
  },
  {
   "cell_type": "markdown",
   "metadata": {},
   "source": [
    "### Answering the problem statement"
   ]
  },
  {
   "cell_type": "markdown",
   "metadata": {},
   "source": [
    "Analysis steps to address the problem statement:  \n",
    "\n",
    "1. Create a method that will calculate the IT Costs\n",
    "\n",
    "2. Remove sellers one by one, starting from the one with the lowest profit.\n",
    "\n",
    "3. For each number of sellers to remove, compute the financial impact on Olist global profits.\n",
    "\n",
    "4. Find an optimal number of sellers to remove that maximizes either Olist's profit."
   ]
  },
  {
   "cell_type": "markdown",
   "metadata": {},
   "source": [
    "The IT costs function was given in section 1.2.\n",
    "\n",
    "$IT\\_costs = \\alpha * \\sqrt{n\\_sellers} + \\beta * \\sqrt{n\\_products}$  \n",
    "- $\\alpha = 3157.27$\n",
    "- $\\beta = 978.23$"
   ]
  },
  {
   "cell_type": "code",
   "execution_count": 130,
   "metadata": {
    "slideshow": {
     "slide_type": "skip"
    }
   },
   "outputs": [],
   "source": [
    "def it_costs(n_sellers,n_products):\n",
    "    return round(3157.27*(np.sqrt(n_sellers))+978.23*(np.sqrt(n_products)))\n"
   ]
  },
  {
   "cell_type": "markdown",
   "metadata": {
    "slideshow": {
     "slide_type": "subslide"
    }
   },
   "source": [
    "## Removing the worst sellers one by one"
   ]
  },
  {
   "cell_type": "code",
   "execution_count": 148,
   "metadata": {
    "slideshow": {
     "slide_type": "skip"
    }
   },
   "outputs": [],
   "source": [
    "# save results of the loop in these lists\n",
    "net_profit = []\n",
    "num_sellers = []\n",
    "cumulative_it_costs = []\n",
    "profits_sellers = []\n",
    "# loop over range of sellers while removing one row each time\n",
    "for i in range(len(sorted_df['profits'])):\n",
    "    net_profit.append(sorted_df.iloc[i:]['profits'].sum() \\\n",
    "        - it_costs(sorted_df.iloc[i:]['profits'].count(), sorted_df.iloc[i:]['n_products'].sum()))\n",
    "    num_sellers.append(sorted_df.iloc[i:]['profits'].count())\n",
    "    cumulative_it_costs.append(it_costs(sorted_df.iloc[i:]['profits'].count(), sorted_df.iloc[i:]['n_products'].sum()))\n",
    "    profits_sellers.append(sorted_df.iloc[i:]['profits'].sum())"
   ]
  },
  {
   "cell_type": "code",
   "execution_count": 149,
   "metadata": {
    "slideshow": {
     "slide_type": "subslide"
    },
    "tags": [
     "remove_input"
    ]
   },
   "outputs": [
    {
     "data": {
      "image/png": "[encoded data removed]",
      "text/plain": [
       "<Figure size 1000x500 with 1 Axes>"
      ]
     },
     "metadata": {},
     "output_type": "display_data"
    }
   ],
   "source": [
    "plt.figure(figsize=(10,5))\n",
    "plt.plot(net_profit, label='Net profit')\n",
    "plt.plot(cumulative_it_costs, label='IT costs')\n",
    "plt.plot(profits_sellers, label='Gross profit')\n",
    "plt.title('Profits as each seller is removed')\n",
    "plt.xlabel('Sellers')\n",
    "plt.ylabel('BHR (Millions)')\n",
    "plt.annotate('Maximum profit (1.07M BRL)',\n",
    "            xy=(855, 1068160), xycoords='data',\n",
    "            xytext=(0.5, 0.85), textcoords='axes fraction',\n",
    "            arrowprops=dict(facecolor='black', shrink=0.05),\n",
    "            horizontalalignment='right', verticalalignment='top')\n",
    "plt.legend();"
   ]
  },
  {
   "cell_type": "code",
   "execution_count": 153,
   "metadata": {},
   "outputs": [
    {
     "name": "stdout",
     "output_type": "stream",
     "text": [
      "Sellers to remove: 856\n",
      "Percentage of sellers to remove: 29%\n",
      "Profit that was achieved: 667609.4440000001 BRL\n",
      "Maximum profit that could have been achieved: 1070976.411 BRL\n",
      "Profit Olist would have saved: 403367 BRL\n",
      "Percentage increase in profit that could have been achieved: 160.4%\n"
     ]
    }
   ],
   "source": [
    "sellers_to_remove = total_profit.index(np.max(total_profit))+1\n",
    "max_profit = np.max(total_profit)\n",
    "current_profit = df_copy['profits'].sum()-it_costs(df_copy['profits'].count(), df_copy['n_products'].sum())\n",
    "percentage_sellers_to_remove = round(sellers_to_remove/len(num_sellers)*100)\n",
    "profit_saved = round(max_profit) - round(current_profit)\n",
    "percentage_change = round((max_profit/current_profit)*100,1)\n",
    "print(f'Sellers to remove: {sellers_to_remove}')\n",
    "print(f'Percentage of sellers to remove: {percentage_sellers_to_remove}%') \n",
    "print(f'Profit that was achieved: {current_profit} BRL')\n",
    "print(f'Maximum profit that could have been achieved: {max_profit} BRL')\n",
    "print(f'Profit Olist would have saved: {profit_saved} BRL')\n",
    "print(f'Percentage increase in profit that could have been achieved: {percentage_change}%')"
   ]
  },
  {
   "cell_type": "markdown",
   "metadata": {},
   "source": [
    "### Key Findings"
   ]
  },
  {
   "cell_type": "markdown",
   "metadata": {
    "slideshow": {
     "slide_type": "fragment"
    }
   },
   "source": [
    "- To maximize profit, Olist should have removed 856 or 29% of its lowest rated sellers.\n",
    "- According to our model this would have saved Olist 0.4M BRL over the analysis period.\n",
    "- Profits would have been 1.07M BRL, a 160.4% change from the actual 0.67M profits."
   ]
  },
  {
   "cell_type": "markdown",
   "metadata": {},
   "source": [
    "## Further analysis"
   ]
  },
  {
   "cell_type": "markdown",
   "metadata": {},
   "source": [
    "### Linear regression to find which variables have the greatest impact on review score"
   ]
  },
  {
   "cell_type": "code",
   "execution_count": 157,
   "metadata": {},
   "outputs": [
    {
     "data": {
      "text/html": [
       "<div>\n",
       "<style scoped>\n",
       "    .dataframe tbody tr th:only-of-type {\n",
       "        vertical-align: middle;\n",
       "    }\n",
       "\n",
       "    .dataframe tbody tr th {\n",
       "        vertical-align: top;\n",
       "    }\n",
       "\n",
       "    .dataframe thead th {\n",
       "        text-align: right;\n",
       "    }\n",
       "</style>\n",
       "<table border=\"1\" class=\"dataframe\">\n",
       "  <thead>\n",
       "    <tr style=\"text-align: right;\">\n",
       "      <th></th>\n",
       "      <th>order_id</th>\n",
       "      <th>wait_time</th>\n",
       "      <th>expected_wait_time</th>\n",
       "      <th>delay_vs_expected</th>\n",
       "      <th>order_status</th>\n",
       "      <th>dim_is_five_star</th>\n",
       "      <th>dim_is_one_star</th>\n",
       "      <th>review_score</th>\n",
       "      <th>number_of_products</th>\n",
       "      <th>number_of_sellers</th>\n",
       "      <th>price</th>\n",
       "      <th>freight_value</th>\n",
       "      <th>distance_seller_customer</th>\n",
       "    </tr>\n",
       "  </thead>\n",
       "  <tbody>\n",
       "    <tr>\n",
       "      <th>0</th>\n",
       "      <td>e481f51cbdc54678b7cc49136f2d6af7</td>\n",
       "      <td>8.436574</td>\n",
       "      <td>15.544063</td>\n",
       "      <td>0.0</td>\n",
       "      <td>delivered</td>\n",
       "      <td>0</td>\n",
       "      <td>0</td>\n",
       "      <td>4</td>\n",
       "      <td>1</td>\n",
       "      <td>1</td>\n",
       "      <td>29.99</td>\n",
       "      <td>8.72</td>\n",
       "      <td>18.063837</td>\n",
       "    </tr>\n",
       "    <tr>\n",
       "      <th>1</th>\n",
       "      <td>53cdb2fc8bc7dce0b6741e2150273451</td>\n",
       "      <td>13.782037</td>\n",
       "      <td>19.137766</td>\n",
       "      <td>0.0</td>\n",
       "      <td>delivered</td>\n",
       "      <td>0</td>\n",
       "      <td>0</td>\n",
       "      <td>4</td>\n",
       "      <td>1</td>\n",
       "      <td>1</td>\n",
       "      <td>118.70</td>\n",
       "      <td>22.76</td>\n",
       "      <td>856.292580</td>\n",
       "    </tr>\n",
       "    <tr>\n",
       "      <th>2</th>\n",
       "      <td>47770eb9100c2d0c44946d9cf07ec65d</td>\n",
       "      <td>9.394213</td>\n",
       "      <td>26.639711</td>\n",
       "      <td>0.0</td>\n",
       "      <td>delivered</td>\n",
       "      <td>1</td>\n",
       "      <td>0</td>\n",
       "      <td>5</td>\n",
       "      <td>1</td>\n",
       "      <td>1</td>\n",
       "      <td>159.90</td>\n",
       "      <td>19.22</td>\n",
       "      <td>514.130333</td>\n",
       "    </tr>\n",
       "    <tr>\n",
       "      <th>3</th>\n",
       "      <td>949d5b44dbf5de918fe9c16f97b45f8a</td>\n",
       "      <td>13.208750</td>\n",
       "      <td>26.188819</td>\n",
       "      <td>0.0</td>\n",
       "      <td>delivered</td>\n",
       "      <td>1</td>\n",
       "      <td>0</td>\n",
       "      <td>5</td>\n",
       "      <td>1</td>\n",
       "      <td>1</td>\n",
       "      <td>45.00</td>\n",
       "      <td>27.20</td>\n",
       "      <td>1822.800366</td>\n",
       "    </tr>\n",
       "    <tr>\n",
       "      <th>4</th>\n",
       "      <td>ad21c59c0840e6cb83a9ceb5573f8159</td>\n",
       "      <td>2.873877</td>\n",
       "      <td>12.112049</td>\n",
       "      <td>0.0</td>\n",
       "      <td>delivered</td>\n",
       "      <td>1</td>\n",
       "      <td>0</td>\n",
       "      <td>5</td>\n",
       "      <td>1</td>\n",
       "      <td>1</td>\n",
       "      <td>19.90</td>\n",
       "      <td>8.72</td>\n",
       "      <td>30.174037</td>\n",
       "    </tr>\n",
       "    <tr>\n",
       "      <th>...</th>\n",
       "      <td>...</td>\n",
       "      <td>...</td>\n",
       "      <td>...</td>\n",
       "      <td>...</td>\n",
       "      <td>...</td>\n",
       "      <td>...</td>\n",
       "      <td>...</td>\n",
       "      <td>...</td>\n",
       "      <td>...</td>\n",
       "      <td>...</td>\n",
       "      <td>...</td>\n",
       "      <td>...</td>\n",
       "      <td>...</td>\n",
       "    </tr>\n",
       "    <tr>\n",
       "      <th>95875</th>\n",
       "      <td>9c5dedf39a927c1b2549525ed64a053c</td>\n",
       "      <td>8.218009</td>\n",
       "      <td>18.587442</td>\n",
       "      <td>0.0</td>\n",
       "      <td>delivered</td>\n",
       "      <td>1</td>\n",
       "      <td>0</td>\n",
       "      <td>5</td>\n",
       "      <td>1</td>\n",
       "      <td>1</td>\n",
       "      <td>72.00</td>\n",
       "      <td>13.08</td>\n",
       "      <td>69.481037</td>\n",
       "    </tr>\n",
       "    <tr>\n",
       "      <th>95876</th>\n",
       "      <td>63943bddc261676b46f01ca7ac2f7bd8</td>\n",
       "      <td>22.193727</td>\n",
       "      <td>23.459051</td>\n",
       "      <td>0.0</td>\n",
       "      <td>delivered</td>\n",
       "      <td>0</td>\n",
       "      <td>0</td>\n",
       "      <td>4</td>\n",
       "      <td>1</td>\n",
       "      <td>1</td>\n",
       "      <td>174.90</td>\n",
       "      <td>20.10</td>\n",
       "      <td>474.098245</td>\n",
       "    </tr>\n",
       "    <tr>\n",
       "      <th>95877</th>\n",
       "      <td>83c1379a015df1e13d02aae0204711ab</td>\n",
       "      <td>24.859421</td>\n",
       "      <td>30.384225</td>\n",
       "      <td>0.0</td>\n",
       "      <td>delivered</td>\n",
       "      <td>1</td>\n",
       "      <td>0</td>\n",
       "      <td>5</td>\n",
       "      <td>1</td>\n",
       "      <td>1</td>\n",
       "      <td>205.99</td>\n",
       "      <td>65.02</td>\n",
       "      <td>968.051192</td>\n",
       "    </tr>\n",
       "    <tr>\n",
       "      <th>95878</th>\n",
       "      <td>11c177c8e97725db2631073c19f07b62</td>\n",
       "      <td>17.086424</td>\n",
       "      <td>37.105243</td>\n",
       "      <td>0.0</td>\n",
       "      <td>delivered</td>\n",
       "      <td>0</td>\n",
       "      <td>0</td>\n",
       "      <td>2</td>\n",
       "      <td>2</td>\n",
       "      <td>1</td>\n",
       "      <td>359.98</td>\n",
       "      <td>81.18</td>\n",
       "      <td>370.146853</td>\n",
       "    </tr>\n",
       "    <tr>\n",
       "      <th>95879</th>\n",
       "      <td>66dea50a8b16d9b4dee7af250b4be1a5</td>\n",
       "      <td>7.674306</td>\n",
       "      <td>25.126736</td>\n",
       "      <td>0.0</td>\n",
       "      <td>delivered</td>\n",
       "      <td>1</td>\n",
       "      <td>0</td>\n",
       "      <td>5</td>\n",
       "      <td>1</td>\n",
       "      <td>1</td>\n",
       "      <td>68.50</td>\n",
       "      <td>18.36</td>\n",
       "      <td>631.817784</td>\n",
       "    </tr>\n",
       "  </tbody>\n",
       "</table>\n",
       "<p>95872 rows × 13 columns</p>\n",
       "</div>"
      ],
      "text/plain": [
       "                               order_id  wait_time  expected_wait_time  \\\n",
       "0      e481f51cbdc54678b7cc49136f2d6af7   8.436574           15.544063   \n",
       "1      53cdb2fc8bc7dce0b6741e2150273451  13.782037           19.137766   \n",
       "2      47770eb9100c2d0c44946d9cf07ec65d   9.394213           26.639711   \n",
       "3      949d5b44dbf5de918fe9c16f97b45f8a  13.208750           26.188819   \n",
       "4      ad21c59c0840e6cb83a9ceb5573f8159   2.873877           12.112049   \n",
       "...                                 ...        ...                 ...   \n",
       "95875  9c5dedf39a927c1b2549525ed64a053c   8.218009           18.587442   \n",
       "95876  63943bddc261676b46f01ca7ac2f7bd8  22.193727           23.459051   \n",
       "95877  83c1379a015df1e13d02aae0204711ab  24.859421           30.384225   \n",
       "95878  11c177c8e97725db2631073c19f07b62  17.086424           37.105243   \n",
       "95879  66dea50a8b16d9b4dee7af250b4be1a5   7.674306           25.126736   \n",
       "\n",
       "       delay_vs_expected order_status  dim_is_five_star  dim_is_one_star  \\\n",
       "0                    0.0    delivered                 0                0   \n",
       "1                    0.0    delivered                 0                0   \n",
       "2                    0.0    delivered                 1                0   \n",
       "3                    0.0    delivered                 1                0   \n",
       "4                    0.0    delivered                 1                0   \n",
       "...                  ...          ...               ...              ...   \n",
       "95875                0.0    delivered                 1                0   \n",
       "95876                0.0    delivered                 0                0   \n",
       "95877                0.0    delivered                 1                0   \n",
       "95878                0.0    delivered                 0                0   \n",
       "95879                0.0    delivered                 1                0   \n",
       "\n",
       "       review_score  number_of_products  number_of_sellers   price  \\\n",
       "0                 4                   1                  1   29.99   \n",
       "1                 4                   1                  1  118.70   \n",
       "2                 5                   1                  1  159.90   \n",
       "3                 5                   1                  1   45.00   \n",
       "4                 5                   1                  1   19.90   \n",
       "...             ...                 ...                ...     ...   \n",
       "95875             5                   1                  1   72.00   \n",
       "95876             4                   1                  1  174.90   \n",
       "95877             5                   1                  1  205.99   \n",
       "95878             2                   2                  1  359.98   \n",
       "95879             5                   1                  1   68.50   \n",
       "\n",
       "       freight_value  distance_seller_customer  \n",
       "0               8.72                 18.063837  \n",
       "1              22.76                856.292580  \n",
       "2              19.22                514.130333  \n",
       "3              27.20               1822.800366  \n",
       "4               8.72                 30.174037  \n",
       "...              ...                       ...  \n",
       "95875          13.08                 69.481037  \n",
       "95876          20.10                474.098245  \n",
       "95877          65.02                968.051192  \n",
       "95878          81.18                370.146853  \n",
       "95879          18.36                631.817784  \n",
       "\n",
       "[95872 rows x 13 columns]"
      ]
     },
     "execution_count": 157,
     "metadata": {},
     "output_type": "execute_result"
    }
   ],
   "source": [
    "orders = Order().get_training_data(with_distance_seller_customer=True)\n",
    "orders"
   ]
  },
  {
   "cell_type": "code",
   "execution_count": 158,
   "metadata": {},
   "outputs": [
    {
     "data": {
      "text/html": [
       "<div>\n",
       "<style scoped>\n",
       "    .dataframe tbody tr th:only-of-type {\n",
       "        vertical-align: middle;\n",
       "    }\n",
       "\n",
       "    .dataframe tbody tr th {\n",
       "        vertical-align: top;\n",
       "    }\n",
       "\n",
       "    .dataframe thead th {\n",
       "        text-align: right;\n",
       "    }\n",
       "</style>\n",
       "<table border=\"1\" class=\"dataframe\">\n",
       "  <thead>\n",
       "    <tr style=\"text-align: right;\">\n",
       "      <th></th>\n",
       "      <th>wait_time</th>\n",
       "      <th>delay_vs_expected</th>\n",
       "      <th>number_of_products</th>\n",
       "      <th>number_of_sellers</th>\n",
       "      <th>price</th>\n",
       "      <th>freight_value</th>\n",
       "      <th>distance_seller_customer</th>\n",
       "    </tr>\n",
       "  </thead>\n",
       "  <tbody>\n",
       "    <tr>\n",
       "      <th>0</th>\n",
       "      <td>8.436574</td>\n",
       "      <td>0.0</td>\n",
       "      <td>1</td>\n",
       "      <td>1</td>\n",
       "      <td>29.99</td>\n",
       "      <td>8.72</td>\n",
       "      <td>18.063837</td>\n",
       "    </tr>\n",
       "    <tr>\n",
       "      <th>1</th>\n",
       "      <td>13.782037</td>\n",
       "      <td>0.0</td>\n",
       "      <td>1</td>\n",
       "      <td>1</td>\n",
       "      <td>118.70</td>\n",
       "      <td>22.76</td>\n",
       "      <td>856.292580</td>\n",
       "    </tr>\n",
       "    <tr>\n",
       "      <th>2</th>\n",
       "      <td>9.394213</td>\n",
       "      <td>0.0</td>\n",
       "      <td>1</td>\n",
       "      <td>1</td>\n",
       "      <td>159.90</td>\n",
       "      <td>19.22</td>\n",
       "      <td>514.130333</td>\n",
       "    </tr>\n",
       "    <tr>\n",
       "      <th>3</th>\n",
       "      <td>13.208750</td>\n",
       "      <td>0.0</td>\n",
       "      <td>1</td>\n",
       "      <td>1</td>\n",
       "      <td>45.00</td>\n",
       "      <td>27.20</td>\n",
       "      <td>1822.800366</td>\n",
       "    </tr>\n",
       "    <tr>\n",
       "      <th>4</th>\n",
       "      <td>2.873877</td>\n",
       "      <td>0.0</td>\n",
       "      <td>1</td>\n",
       "      <td>1</td>\n",
       "      <td>19.90</td>\n",
       "      <td>8.72</td>\n",
       "      <td>30.174037</td>\n",
       "    </tr>\n",
       "    <tr>\n",
       "      <th>...</th>\n",
       "      <td>...</td>\n",
       "      <td>...</td>\n",
       "      <td>...</td>\n",
       "      <td>...</td>\n",
       "      <td>...</td>\n",
       "      <td>...</td>\n",
       "      <td>...</td>\n",
       "    </tr>\n",
       "    <tr>\n",
       "      <th>95875</th>\n",
       "      <td>8.218009</td>\n",
       "      <td>0.0</td>\n",
       "      <td>1</td>\n",
       "      <td>1</td>\n",
       "      <td>72.00</td>\n",
       "      <td>13.08</td>\n",
       "      <td>69.481037</td>\n",
       "    </tr>\n",
       "    <tr>\n",
       "      <th>95876</th>\n",
       "      <td>22.193727</td>\n",
       "      <td>0.0</td>\n",
       "      <td>1</td>\n",
       "      <td>1</td>\n",
       "      <td>174.90</td>\n",
       "      <td>20.10</td>\n",
       "      <td>474.098245</td>\n",
       "    </tr>\n",
       "    <tr>\n",
       "      <th>95877</th>\n",
       "      <td>24.859421</td>\n",
       "      <td>0.0</td>\n",
       "      <td>1</td>\n",
       "      <td>1</td>\n",
       "      <td>205.99</td>\n",
       "      <td>65.02</td>\n",
       "      <td>968.051192</td>\n",
       "    </tr>\n",
       "    <tr>\n",
       "      <th>95878</th>\n",
       "      <td>17.086424</td>\n",
       "      <td>0.0</td>\n",
       "      <td>2</td>\n",
       "      <td>1</td>\n",
       "      <td>359.98</td>\n",
       "      <td>81.18</td>\n",
       "      <td>370.146853</td>\n",
       "    </tr>\n",
       "    <tr>\n",
       "      <th>95879</th>\n",
       "      <td>7.674306</td>\n",
       "      <td>0.0</td>\n",
       "      <td>1</td>\n",
       "      <td>1</td>\n",
       "      <td>68.50</td>\n",
       "      <td>18.36</td>\n",
       "      <td>631.817784</td>\n",
       "    </tr>\n",
       "  </tbody>\n",
       "</table>\n",
       "<p>95872 rows × 7 columns</p>\n",
       "</div>"
      ],
      "text/plain": [
       "       wait_time  delay_vs_expected  number_of_products  number_of_sellers  \\\n",
       "0       8.436574                0.0                   1                  1   \n",
       "1      13.782037                0.0                   1                  1   \n",
       "2       9.394213                0.0                   1                  1   \n",
       "3      13.208750                0.0                   1                  1   \n",
       "4       2.873877                0.0                   1                  1   \n",
       "...          ...                ...                 ...                ...   \n",
       "95875   8.218009                0.0                   1                  1   \n",
       "95876  22.193727                0.0                   1                  1   \n",
       "95877  24.859421                0.0                   1                  1   \n",
       "95878  17.086424                0.0                   2                  1   \n",
       "95879   7.674306                0.0                   1                  1   \n",
       "\n",
       "        price  freight_value  distance_seller_customer  \n",
       "0       29.99           8.72                 18.063837  \n",
       "1      118.70          22.76                856.292580  \n",
       "2      159.90          19.22                514.130333  \n",
       "3       45.00          27.20               1822.800366  \n",
       "4       19.90           8.72                 30.174037  \n",
       "...       ...            ...                       ...  \n",
       "95875   72.00          13.08                 69.481037  \n",
       "95876  174.90          20.10                474.098245  \n",
       "95877  205.99          65.02                968.051192  \n",
       "95878  359.98          81.18                370.146853  \n",
       "95879   68.50          18.36                631.817784  \n",
       "\n",
       "[95872 rows x 7 columns]"
      ]
     },
     "execution_count": 158,
     "metadata": {},
     "output_type": "execute_result"
    }
   ],
   "source": [
    "features_lst = [\n",
    " 'wait_time',\n",
    " 'delay_vs_expected',\n",
    " 'number_of_products',\n",
    " 'number_of_sellers',\n",
    " 'price',\n",
    " 'freight_value',\n",
    " 'distance_seller_customer']\n",
    "orders_copy = orders[lst]\n",
    "orders_copy"
   ]
  },
  {
   "cell_type": "code",
   "execution_count": 159,
   "metadata": {},
   "outputs": [
    {
     "data": {
      "text/html": [
       "<div>\n",
       "<style scoped>\n",
       "    .dataframe tbody tr th:only-of-type {\n",
       "        vertical-align: middle;\n",
       "    }\n",
       "\n",
       "    .dataframe tbody tr th {\n",
       "        vertical-align: top;\n",
       "    }\n",
       "\n",
       "    .dataframe thead th {\n",
       "        text-align: right;\n",
       "    }\n",
       "</style>\n",
       "<table border=\"1\" class=\"dataframe\">\n",
       "  <thead>\n",
       "    <tr style=\"text-align: right;\">\n",
       "      <th></th>\n",
       "      <th>wait_time</th>\n",
       "      <th>delay_vs_expected</th>\n",
       "      <th>number_of_products</th>\n",
       "      <th>number_of_sellers</th>\n",
       "      <th>price</th>\n",
       "      <th>freight_value</th>\n",
       "      <th>distance_seller_customer</th>\n",
       "      <th>review_score</th>\n",
       "    </tr>\n",
       "  </thead>\n",
       "  <tbody>\n",
       "    <tr>\n",
       "      <th>0</th>\n",
       "      <td>-0.431192</td>\n",
       "      <td>-0.161781</td>\n",
       "      <td>-0.264595</td>\n",
       "      <td>-0.112544</td>\n",
       "      <td>-0.513802</td>\n",
       "      <td>-0.652038</td>\n",
       "      <td>-0.979475</td>\n",
       "      <td>4</td>\n",
       "    </tr>\n",
       "    <tr>\n",
       "      <th>1</th>\n",
       "      <td>0.134174</td>\n",
       "      <td>-0.161781</td>\n",
       "      <td>-0.264595</td>\n",
       "      <td>-0.112544</td>\n",
       "      <td>-0.086640</td>\n",
       "      <td>0.000467</td>\n",
       "      <td>0.429743</td>\n",
       "      <td>4</td>\n",
       "    </tr>\n",
       "    <tr>\n",
       "      <th>2</th>\n",
       "      <td>-0.329907</td>\n",
       "      <td>-0.161781</td>\n",
       "      <td>-0.264595</td>\n",
       "      <td>-0.112544</td>\n",
       "      <td>0.111748</td>\n",
       "      <td>-0.164053</td>\n",
       "      <td>-0.145495</td>\n",
       "      <td>5</td>\n",
       "    </tr>\n",
       "    <tr>\n",
       "      <th>3</th>\n",
       "      <td>0.073540</td>\n",
       "      <td>-0.161781</td>\n",
       "      <td>-0.264595</td>\n",
       "      <td>-0.112544</td>\n",
       "      <td>-0.441525</td>\n",
       "      <td>0.206815</td>\n",
       "      <td>2.054621</td>\n",
       "      <td>5</td>\n",
       "    </tr>\n",
       "    <tr>\n",
       "      <th>4</th>\n",
       "      <td>-1.019535</td>\n",
       "      <td>-0.161781</td>\n",
       "      <td>-0.264595</td>\n",
       "      <td>-0.112544</td>\n",
       "      <td>-0.562388</td>\n",
       "      <td>-0.652038</td>\n",
       "      <td>-0.959115</td>\n",
       "      <td>5</td>\n",
       "    </tr>\n",
       "    <tr>\n",
       "      <th>...</th>\n",
       "      <td>...</td>\n",
       "      <td>...</td>\n",
       "      <td>...</td>\n",
       "      <td>...</td>\n",
       "      <td>...</td>\n",
       "      <td>...</td>\n",
       "      <td>...</td>\n",
       "      <td>...</td>\n",
       "    </tr>\n",
       "    <tr>\n",
       "      <th>95875</th>\n",
       "      <td>-0.454309</td>\n",
       "      <td>-0.161781</td>\n",
       "      <td>-0.264595</td>\n",
       "      <td>-0.112544</td>\n",
       "      <td>-0.311513</td>\n",
       "      <td>-0.449408</td>\n",
       "      <td>-0.893033</td>\n",
       "      <td>5</td>\n",
       "    </tr>\n",
       "    <tr>\n",
       "      <th>95876</th>\n",
       "      <td>1.023841</td>\n",
       "      <td>-0.161781</td>\n",
       "      <td>-0.264595</td>\n",
       "      <td>-0.112544</td>\n",
       "      <td>0.183977</td>\n",
       "      <td>-0.123156</td>\n",
       "      <td>-0.212797</td>\n",
       "      <td>4</td>\n",
       "    </tr>\n",
       "    <tr>\n",
       "      <th>95877</th>\n",
       "      <td>1.305780</td>\n",
       "      <td>-0.161781</td>\n",
       "      <td>-0.264595</td>\n",
       "      <td>-0.112544</td>\n",
       "      <td>0.333684</td>\n",
       "      <td>1.964490</td>\n",
       "      <td>0.617630</td>\n",
       "      <td>5</td>\n",
       "    </tr>\n",
       "    <tr>\n",
       "      <th>95878</th>\n",
       "      <td>0.483664</td>\n",
       "      <td>-0.161781</td>\n",
       "      <td>1.601605</td>\n",
       "      <td>-0.112544</td>\n",
       "      <td>1.075186</td>\n",
       "      <td>2.715522</td>\n",
       "      <td>-0.387558</td>\n",
       "      <td>2</td>\n",
       "    </tr>\n",
       "    <tr>\n",
       "      <th>95879</th>\n",
       "      <td>-0.511814</td>\n",
       "      <td>-0.161781</td>\n",
       "      <td>-0.264595</td>\n",
       "      <td>-0.112544</td>\n",
       "      <td>-0.328367</td>\n",
       "      <td>-0.204022</td>\n",
       "      <td>0.052359</td>\n",
       "      <td>5</td>\n",
       "    </tr>\n",
       "  </tbody>\n",
       "</table>\n",
       "<p>95872 rows × 8 columns</p>\n",
       "</div>"
      ],
      "text/plain": [
       "       wait_time  delay_vs_expected  number_of_products  number_of_sellers  \\\n",
       "0      -0.431192          -0.161781           -0.264595          -0.112544   \n",
       "1       0.134174          -0.161781           -0.264595          -0.112544   \n",
       "2      -0.329907          -0.161781           -0.264595          -0.112544   \n",
       "3       0.073540          -0.161781           -0.264595          -0.112544   \n",
       "4      -1.019535          -0.161781           -0.264595          -0.112544   \n",
       "...          ...                ...                 ...                ...   \n",
       "95875  -0.454309          -0.161781           -0.264595          -0.112544   \n",
       "95876   1.023841          -0.161781           -0.264595          -0.112544   \n",
       "95877   1.305780          -0.161781           -0.264595          -0.112544   \n",
       "95878   0.483664          -0.161781            1.601605          -0.112544   \n",
       "95879  -0.511814          -0.161781           -0.264595          -0.112544   \n",
       "\n",
       "          price  freight_value  distance_seller_customer  review_score  \n",
       "0     -0.513802      -0.652038                 -0.979475             4  \n",
       "1     -0.086640       0.000467                  0.429743             4  \n",
       "2      0.111748      -0.164053                 -0.145495             5  \n",
       "3     -0.441525       0.206815                  2.054621             5  \n",
       "4     -0.562388      -0.652038                 -0.959115             5  \n",
       "...         ...            ...                       ...           ...  \n",
       "95875 -0.311513      -0.449408                 -0.893033             5  \n",
       "95876  0.183977      -0.123156                 -0.212797             4  \n",
       "95877  0.333684       1.964490                  0.617630             5  \n",
       "95878  1.075186       2.715522                 -0.387558             2  \n",
       "95879 -0.328367      -0.204022                  0.052359             5  \n",
       "\n",
       "[95872 rows x 8 columns]"
      ]
     },
     "execution_count": 159,
     "metadata": {},
     "output_type": "execute_result"
    }
   ],
   "source": [
    "orders_scaled= orders_copy.copy()\n",
    "\n",
    "for feature in orders_scaled.columns:\n",
    "    mu= orders_copy[feature].mean()\n",
    "    sigma= orders_copy[feature].std()\n",
    "    orders_scaled[feature]= orders_scaled[feature].apply(lambda x: (x-mu)/sigma)\n",
    "\n",
    "orders_scaled['review_score'] = orders['review_score']\n",
    "orders_scaled"
   ]
  },
  {
   "cell_type": "code",
   "execution_count": 160,
   "metadata": {},
   "outputs": [
    {
     "data": {
      "text/html": [
       "<table class=\"simpletable\">\n",
       "<caption>OLS Regression Results</caption>\n",
       "<tr>\n",
       "  <th>Dep. Variable:</th>      <td>review_score</td>   <th>  R-squared:         </th>  <td>   0.145</td>  \n",
       "</tr>\n",
       "<tr>\n",
       "  <th>Model:</th>                   <td>OLS</td>       <th>  Adj. R-squared:    </th>  <td>   0.145</td>  \n",
       "</tr>\n",
       "<tr>\n",
       "  <th>Method:</th>             <td>Least Squares</td>  <th>  F-statistic:       </th>  <td>   2322.</td>  \n",
       "</tr>\n",
       "<tr>\n",
       "  <th>Date:</th>             <td>Sun, 30 Oct 2022</td> <th>  Prob (F-statistic):</th>   <td>  0.00</td>   \n",
       "</tr>\n",
       "<tr>\n",
       "  <th>Time:</th>                 <td>22:03:38</td>     <th>  Log-Likelihood:    </th> <td>-1.5258e+05</td>\n",
       "</tr>\n",
       "<tr>\n",
       "  <th>No. Observations:</th>      <td> 95872</td>      <th>  AIC:               </th>  <td>3.052e+05</td> \n",
       "</tr>\n",
       "<tr>\n",
       "  <th>Df Residuals:</th>          <td> 95864</td>      <th>  BIC:               </th>  <td>3.052e+05</td> \n",
       "</tr>\n",
       "<tr>\n",
       "  <th>Df Model:</th>              <td>     7</td>      <th>                     </th>      <td> </td>     \n",
       "</tr>\n",
       "<tr>\n",
       "  <th>Covariance Type:</th>      <td>nonrobust</td>    <th>                     </th>      <td> </td>     \n",
       "</tr>\n",
       "</table>\n",
       "<table class=\"simpletable\">\n",
       "<tr>\n",
       "              <td></td>                <th>coef</th>     <th>std err</th>      <th>t</th>      <th>P>|t|</th>  <th>[0.025</th>    <th>0.975]</th>  \n",
       "</tr>\n",
       "<tr>\n",
       "  <th>Intercept</th>                <td>    4.1555</td> <td>    0.004</td> <td> 1082.730</td> <td> 0.000</td> <td>    4.148</td> <td>    4.163</td>\n",
       "</tr>\n",
       "<tr>\n",
       "  <th>wait_time</th>                <td>   -0.4397</td> <td>    0.006</td> <td>  -70.719</td> <td> 0.000</td> <td>   -0.452</td> <td>   -0.428</td>\n",
       "</tr>\n",
       "<tr>\n",
       "  <th>delay_vs_expected</th>        <td>   -0.0515</td> <td>    0.006</td> <td>   -9.023</td> <td> 0.000</td> <td>   -0.063</td> <td>   -0.040</td>\n",
       "</tr>\n",
       "<tr>\n",
       "  <th>freight_value</th>            <td>    0.0043</td> <td>    0.005</td> <td>    0.868</td> <td> 0.385</td> <td>   -0.005</td> <td>    0.014</td>\n",
       "</tr>\n",
       "<tr>\n",
       "  <th>distance_seller_customer</th> <td>    0.0967</td> <td>    0.005</td> <td>   20.984</td> <td> 0.000</td> <td>    0.088</td> <td>    0.106</td>\n",
       "</tr>\n",
       "<tr>\n",
       "  <th>number_of_products</th>       <td>   -0.1297</td> <td>    0.004</td> <td>  -28.861</td> <td> 0.000</td> <td>   -0.139</td> <td>   -0.121</td>\n",
       "</tr>\n",
       "<tr>\n",
       "  <th>price</th>                    <td>   -0.0029</td> <td>    0.004</td> <td>   -0.696</td> <td> 0.486</td> <td>   -0.011</td> <td>    0.005</td>\n",
       "</tr>\n",
       "<tr>\n",
       "  <th>number_of_sellers</th>        <td>   -0.1314</td> <td>    0.004</td> <td>  -32.747</td> <td> 0.000</td> <td>   -0.139</td> <td>   -0.124</td>\n",
       "</tr>\n",
       "</table>\n",
       "<table class=\"simpletable\">\n",
       "<tr>\n",
       "  <th>Omnibus:</th>       <td>18749.799</td> <th>  Durbin-Watson:     </th> <td>   2.009</td> \n",
       "</tr>\n",
       "<tr>\n",
       "  <th>Prob(Omnibus):</th>  <td> 0.000</td>   <th>  Jarque-Bera (JB):  </th> <td>37820.902</td>\n",
       "</tr>\n",
       "<tr>\n",
       "  <th>Skew:</th>           <td>-1.175</td>   <th>  Prob(JB):          </th> <td>    0.00</td> \n",
       "</tr>\n",
       "<tr>\n",
       "  <th>Kurtosis:</th>       <td> 4.986</td>   <th>  Cond. No.          </th> <td>    3.02</td> \n",
       "</tr>\n",
       "</table><br/><br/>Notes:<br/>[1] Standard Errors assume that the covariance matrix of the errors is correctly specified."
      ],
      "text/plain": [
       "<class 'statsmodels.iolib.summary.Summary'>\n",
       "\"\"\"\n",
       "                            OLS Regression Results                            \n",
       "==============================================================================\n",
       "Dep. Variable:           review_score   R-squared:                       0.145\n",
       "Model:                            OLS   Adj. R-squared:                  0.145\n",
       "Method:                 Least Squares   F-statistic:                     2322.\n",
       "Date:                Sun, 30 Oct 2022   Prob (F-statistic):               0.00\n",
       "Time:                        22:03:38   Log-Likelihood:            -1.5258e+05\n",
       "No. Observations:               95872   AIC:                         3.052e+05\n",
       "Df Residuals:                   95864   BIC:                         3.052e+05\n",
       "Df Model:                           7                                         \n",
       "Covariance Type:            nonrobust                                         \n",
       "============================================================================================\n",
       "                               coef    std err          t      P>|t|      [0.025      0.975]\n",
       "--------------------------------------------------------------------------------------------\n",
       "Intercept                    4.1555      0.004   1082.730      0.000       4.148       4.163\n",
       "wait_time                   -0.4397      0.006    -70.719      0.000      -0.452      -0.428\n",
       "delay_vs_expected           -0.0515      0.006     -9.023      0.000      -0.063      -0.040\n",
       "freight_value                0.0043      0.005      0.868      0.385      -0.005       0.014\n",
       "distance_seller_customer     0.0967      0.005     20.984      0.000       0.088       0.106\n",
       "number_of_products          -0.1297      0.004    -28.861      0.000      -0.139      -0.121\n",
       "price                       -0.0029      0.004     -0.696      0.486      -0.011       0.005\n",
       "number_of_sellers           -0.1314      0.004    -32.747      0.000      -0.139      -0.124\n",
       "==============================================================================\n",
       "Omnibus:                    18749.799   Durbin-Watson:                   2.009\n",
       "Prob(Omnibus):                  0.000   Jarque-Bera (JB):            37820.902\n",
       "Skew:                          -1.175   Prob(JB):                         0.00\n",
       "Kurtosis:                       4.986   Cond. No.                         3.02\n",
       "==============================================================================\n",
       "\n",
       "Notes:\n",
       "[1] Standard Errors assume that the covariance matrix of the errors is correctly specified.\n",
       "\"\"\""
      ]
     },
     "execution_count": 160,
     "metadata": {},
     "output_type": "execute_result"
    }
   ],
   "source": [
    "linear_model= smf.ols(formula= 'review_score ~ wait_time + delay_vs_expected + freight_value + distance_seller_customer + number_of_products + price + number_of_sellers', data=orders_scaled).fit()\n",
    "linear_model.summary()"
   ]
  },
  {
   "cell_type": "code",
   "execution_count": 161,
   "metadata": {},
   "outputs": [
    {
     "data": {
      "image/png": "[encoded data removed]",
      "text/plain": [
       "<Figure size 1300x500 with 1 Axes>"
      ]
     },
     "metadata": {},
     "output_type": "display_data"
    }
   ],
   "source": [
    "plt.figure(figsize=(13,5))\n",
    "ax1 = plt.subplot(1,2,1)\n",
    "ax1.set_title('Linear coefficients')\n",
    "ax1.set_xlim(-1.5, 0.25)\n",
    "linear_model.params[1:].sort_values().plot(kind='barh', ax=ax1);"
   ]
  },
  {
   "cell_type": "code",
   "execution_count": 134,
   "metadata": {
    "slideshow": {
     "slide_type": "skip"
    }
   },
   "outputs": [],
   "source": [
    "worst_sellers = df_sorted[0:856]\n",
    "best_sellers = df_sorted[855:]\n",
    "worst_sellers = worst_sellers.merge(sellers[['wait_time','months_on_olist','seller_id']], on='seller_id')\n",
    "best_sellers = best_sellers.merge(sellers[['wait_time','months_on_olist','seller_id']], on='seller_id')"
   ]
  },
  {
   "cell_type": "code",
   "execution_count": 135,
   "metadata": {
    "slideshow": {
     "slide_type": "fragment"
    },
    "tags": [
     "remove_input"
    ]
   },
   "outputs": [
    {
     "data": {
      "text/html": [
       "<style type=\"text/css\">\n",
       "#T_0e2a3_row0_col4, #T_0e2a3_row1_col4, #T_0e2a3_row2_col4, #T_0e2a3_row3_col4, #T_0e2a3_row4_col4, #T_0e2a3_row5_col4, #T_0e2a3_row6_col4, #T_0e2a3_row7_col4 {\n",
       "  background-color: yellow;\n",
       "}\n",
       "</style>\n",
       "<table id=\"T_0e2a3\">\n",
       "  <thead>\n",
       "    <tr>\n",
       "      <th class=\"blank level0\" >&nbsp;</th>\n",
       "      <th id=\"T_0e2a3_level0_col0\" class=\"col_heading level0 col0\" >n_products</th>\n",
       "      <th id=\"T_0e2a3_level0_col1\" class=\"col_heading level0 col1\" >cost_of_reviews</th>\n",
       "      <th id=\"T_0e2a3_level0_col2\" class=\"col_heading level0 col2\" >revenue</th>\n",
       "      <th id=\"T_0e2a3_level0_col3\" class=\"col_heading level0 col3\" >profits</th>\n",
       "      <th id=\"T_0e2a3_level0_col4\" class=\"col_heading level0 col4\" >wait_time</th>\n",
       "      <th id=\"T_0e2a3_level0_col5\" class=\"col_heading level0 col5\" >months_on_olist</th>\n",
       "    </tr>\n",
       "  </thead>\n",
       "  <tbody>\n",
       "    <tr>\n",
       "      <th id=\"T_0e2a3_level0_row0\" class=\"row_heading level0 row0\" >count</th>\n",
       "      <td id=\"T_0e2a3_row0_col0\" class=\"data row0 col0\" >856.000000</td>\n",
       "      <td id=\"T_0e2a3_row0_col1\" class=\"data row0 col1\" >856.000000</td>\n",
       "      <td id=\"T_0e2a3_row0_col2\" class=\"data row0 col2\" >856.000000</td>\n",
       "      <td id=\"T_0e2a3_row0_col3\" class=\"data row0 col3\" >856.000000</td>\n",
       "      <td id=\"T_0e2a3_row0_col4\" class=\"data row0 col4\" >856.000000</td>\n",
       "      <td id=\"T_0e2a3_row0_col5\" class=\"data row0 col5\" >856.000000</td>\n",
       "    </tr>\n",
       "    <tr>\n",
       "      <th id=\"T_0e2a3_level0_row1\" class=\"row_heading level0 row1\" >mean</th>\n",
       "      <td id=\"T_0e2a3_row1_col0\" class=\"data row1 col0\" >54.533879</td>\n",
       "      <td id=\"T_0e2a3_row1_col1\" class=\"data row1 col1\" >937.172897</td>\n",
       "      <td id=\"T_0e2a3_row1_col2\" class=\"data row1 col2\" >587.551043</td>\n",
       "      <td id=\"T_0e2a3_row1_col3\" class=\"data row1 col3\" >-349.621854</td>\n",
       "      <td id=\"T_0e2a3_row1_col4\" class=\"data row1 col4\" >12.732937</td>\n",
       "      <td id=\"T_0e2a3_row1_col5\" class=\"data row1 col5\" >2.449766</td>\n",
       "    </tr>\n",
       "    <tr>\n",
       "      <th id=\"T_0e2a3_level0_row2\" class=\"row_heading level0 row2\" >std</th>\n",
       "      <td id=\"T_0e2a3_row2_col0\" class=\"data row2 col0\" >199.046990</td>\n",
       "      <td id=\"T_0e2a3_row2_col1\" class=\"data row2 col1\" >3196.917258</td>\n",
       "      <td id=\"T_0e2a3_row2_col2\" class=\"data row2 col2\" >1872.064043</td>\n",
       "      <td id=\"T_0e2a3_row2_col3\" class=\"data row2 col3\" >1591.883611</td>\n",
       "      <td id=\"T_0e2a3_row2_col4\" class=\"data row2 col4\" >10.292798</td>\n",
       "      <td id=\"T_0e2a3_row2_col5\" class=\"data row2 col5\" >5.125996</td>\n",
       "    </tr>\n",
       "    <tr>\n",
       "      <th id=\"T_0e2a3_level0_row3\" class=\"row_heading level0 row3\" >min</th>\n",
       "      <td id=\"T_0e2a3_row3_col0\" class=\"data row3 col0\" >1.000000</td>\n",
       "      <td id=\"T_0e2a3_row3_col1\" class=\"data row3 col1\" >0.000000</td>\n",
       "      <td id=\"T_0e2a3_row3_col2\" class=\"data row3 col2\" >0.650000</td>\n",
       "      <td id=\"T_0e2a3_row3_col3\" class=\"data row3 col3\" >-21519.517000</td>\n",
       "      <td id=\"T_0e2a3_row3_col4\" class=\"data row3 col4\" >1.214178</td>\n",
       "      <td id=\"T_0e2a3_row3_col5\" class=\"data row3 col5\" >0.000000</td>\n",
       "    </tr>\n",
       "    <tr>\n",
       "      <th id=\"T_0e2a3_level0_row4\" class=\"row_heading level0 row4\" >25%</th>\n",
       "      <td id=\"T_0e2a3_row4_col0\" class=\"data row4 col0\" >1.000000</td>\n",
       "      <td id=\"T_0e2a3_row4_col1\" class=\"data row4 col1\" >0.000000</td>\n",
       "      <td id=\"T_0e2a3_row4_col2\" class=\"data row4 col2\" >7.990000</td>\n",
       "      <td id=\"T_0e2a3_row4_col3\" class=\"data row4 col3\" >-86.550000</td>\n",
       "      <td id=\"T_0e2a3_row4_col4\" class=\"data row4 col4\" >7.134586</td>\n",
       "      <td id=\"T_0e2a3_row4_col5\" class=\"data row4 col5\" >0.000000</td>\n",
       "    </tr>\n",
       "    <tr>\n",
       "      <th id=\"T_0e2a3_level0_row5\" class=\"row_heading level0 row5\" >50%</th>\n",
       "      <td id=\"T_0e2a3_row5_col0\" class=\"data row5 col0\" >2.000000</td>\n",
       "      <td id=\"T_0e2a3_row5_col1\" class=\"data row5 col1\" >40.000000</td>\n",
       "      <td id=\"T_0e2a3_row5_col2\" class=\"data row5 col2\" >19.985000</td>\n",
       "      <td id=\"T_0e2a3_row5_col3\" class=\"data row5 col3\" >2.545000</td>\n",
       "      <td id=\"T_0e2a3_row5_col4\" class=\"data row5 col4\" >10.970185</td>\n",
       "      <td id=\"T_0e2a3_row5_col5\" class=\"data row5 col5\" >0.000000</td>\n",
       "    </tr>\n",
       "    <tr>\n",
       "      <th id=\"T_0e2a3_level0_row6\" class=\"row_heading level0 row6\" >75%</th>\n",
       "      <td id=\"T_0e2a3_row6_col0\" class=\"data row6 col0\" >8.000000</td>\n",
       "      <td id=\"T_0e2a3_row6_col1\" class=\"data row6 col1\" >200.000000</td>\n",
       "      <td id=\"T_0e2a3_row6_col2\" class=\"data row6 col2\" >194.916750</td>\n",
       "      <td id=\"T_0e2a3_row6_col3\" class=\"data row6 col3\" >13.015000</td>\n",
       "      <td id=\"T_0e2a3_row6_col4\" class=\"data row6 col4\" >14.995574</td>\n",
       "      <td id=\"T_0e2a3_row6_col5\" class=\"data row6 col5\" >2.000000</td>\n",
       "    </tr>\n",
       "    <tr>\n",
       "      <th id=\"T_0e2a3_level0_row7\" class=\"row_heading level0 row7\" >max</th>\n",
       "      <td id=\"T_0e2a3_row7_col0\" class=\"data row7 col0\" >2033.000000</td>\n",
       "      <td id=\"T_0e2a3_row7_col1\" class=\"data row7 col1\" >39400.000000</td>\n",
       "      <td id=\"T_0e2a3_row7_col2\" class=\"data row7 col2\" >21647.292000</td>\n",
       "      <td id=\"T_0e2a3_row7_col3\" class=\"data row7 col3\" >48.660000</td>\n",
       "      <td id=\"T_0e2a3_row7_col4\" class=\"data row7 col4\" >189.863160</td>\n",
       "      <td id=\"T_0e2a3_row7_col5\" class=\"data row7 col5\" >23.000000</td>\n",
       "    </tr>\n",
       "  </tbody>\n",
       "</table>\n"
      ],
      "text/plain": [
       "<pandas.io.formats.style.Styler at 0x13913ba30>"
      ]
     },
     "execution_count": 135,
     "metadata": {},
     "output_type": "execute_result"
    }
   ],
   "source": [
    "worst_seller_stats = worst_sellers.describe()\n",
    "\n",
    "def highlight_cols(s):\n",
    "    return 'background-color: % s' % 'yellow'\n",
    "\n",
    "worst_seller_stats.style.applymap(highlight_cols, subset=pd.IndexSlice[:, ['wait_time']])\n"
   ]
  },
  {
   "cell_type": "code",
   "execution_count": 136,
   "metadata": {
    "slideshow": {
     "slide_type": "skip"
    }
   },
   "outputs": [
    {
     "data": {
      "text/html": [
       "<style type=\"text/css\">\n",
       "#T_28d64_row0_col4, #T_28d64_row1_col4, #T_28d64_row2_col4, #T_28d64_row3_col4, #T_28d64_row4_col4, #T_28d64_row5_col4, #T_28d64_row6_col4, #T_28d64_row7_col4 {\n",
       "  background-color: yellow;\n",
       "}\n",
       "</style>\n",
       "<table id=\"T_28d64\">\n",
       "  <thead>\n",
       "    <tr>\n",
       "      <th class=\"blank level0\" >&nbsp;</th>\n",
       "      <th id=\"T_28d64_level0_col0\" class=\"col_heading level0 col0\" >n_products</th>\n",
       "      <th id=\"T_28d64_level0_col1\" class=\"col_heading level0 col1\" >cost_of_reviews</th>\n",
       "      <th id=\"T_28d64_level0_col2\" class=\"col_heading level0 col2\" >revenue</th>\n",
       "      <th id=\"T_28d64_level0_col3\" class=\"col_heading level0 col3\" >profits</th>\n",
       "      <th id=\"T_28d64_level0_col4\" class=\"col_heading level0 col4\" >wait_time</th>\n",
       "      <th id=\"T_28d64_level0_col5\" class=\"col_heading level0 col5\" >months_on_olist</th>\n",
       "    </tr>\n",
       "  </thead>\n",
       "  <tbody>\n",
       "    <tr>\n",
       "      <th id=\"T_28d64_level0_row0\" class=\"row_heading level0 row0\" >count</th>\n",
       "      <td id=\"T_28d64_row0_col0\" class=\"data row0 col0\" >2112.000000</td>\n",
       "      <td id=\"T_28d64_row0_col1\" class=\"data row0 col1\" >2112.000000</td>\n",
       "      <td id=\"T_28d64_row0_col2\" class=\"data row0 col2\" >2112.000000</td>\n",
       "      <td id=\"T_28d64_row0_col3\" class=\"data row0 col3\" >2112.000000</td>\n",
       "      <td id=\"T_28d64_row0_col4\" class=\"data row0 col4\" >2112.000000</td>\n",
       "      <td id=\"T_28d64_row0_col5\" class=\"data row0 col5\" >2112.000000</td>\n",
       "    </tr>\n",
       "    <tr>\n",
       "      <th id=\"T_28d64_level0_row1\" class=\"row_heading level0 row1\" >mean</th>\n",
       "      <td id=\"T_28d64_row1_col0\" class=\"data row1 col0\" >31.137784</td>\n",
       "      <td id=\"T_28d64_row1_col1\" class=\"data row1 col1\" >386.377841</td>\n",
       "      <td id=\"T_28d64_row1_col2\" class=\"data row1 col2\" >1080.948585</td>\n",
       "      <td id=\"T_28d64_row1_col3\" class=\"data row1 col3\" >694.570744</td>\n",
       "      <td id=\"T_28d64_row1_col4\" class=\"data row1 col4\" >11.896798</td>\n",
       "      <td id=\"T_28d64_row1_col5\" class=\"data row1 col5\" >7.472538</td>\n",
       "    </tr>\n",
       "    <tr>\n",
       "      <th id=\"T_28d64_level0_row2\" class=\"row_heading level0 row2\" >std</th>\n",
       "      <td id=\"T_28d64_row2_col0\" class=\"data row2 col0\" >67.394274</td>\n",
       "      <td id=\"T_28d64_row2_col1\" class=\"data row2 col1\" >887.414020</td>\n",
       "      <td id=\"T_28d64_row2_col2\" class=\"data row2 col2\" >1544.629957</td>\n",
       "      <td id=\"T_28d64_row2_col3\" class=\"data row2 col3\" >926.035035</td>\n",
       "      <td id=\"T_28d64_row2_col4\" class=\"data row2 col4\" >5.207038</td>\n",
       "      <td id=\"T_28d64_row2_col5\" class=\"data row2 col5\" >5.707309</td>\n",
       "    </tr>\n",
       "    <tr>\n",
       "      <th id=\"T_28d64_level0_row3\" class=\"row_heading level0 row3\" >min</th>\n",
       "      <td id=\"T_28d64_row3_col0\" class=\"data row3 col0\" >1.000000</td>\n",
       "      <td id=\"T_28d64_row3_col1\" class=\"data row3 col1\" >0.000000</td>\n",
       "      <td id=\"T_28d64_row3_col2\" class=\"data row3 col2\" >48.900000</td>\n",
       "      <td id=\"T_28d64_row3_col3\" class=\"data row3 col3\" >48.660000</td>\n",
       "      <td id=\"T_28d64_row3_col4\" class=\"data row3 col4\" >2.154711</td>\n",
       "      <td id=\"T_28d64_row3_col5\" class=\"data row3 col5\" >0.000000</td>\n",
       "    </tr>\n",
       "    <tr>\n",
       "      <th id=\"T_28d64_level0_row4\" class=\"row_heading level0 row4\" >25%</th>\n",
       "      <td id=\"T_28d64_row4_col0\" class=\"data row4 col0\" >5.000000</td>\n",
       "      <td id=\"T_28d64_row4_col1\" class=\"data row4 col1\" >40.000000</td>\n",
       "      <td id=\"T_28d64_row4_col2\" class=\"data row4 col2\" >314.132250</td>\n",
       "      <td id=\"T_28d64_row4_col3\" class=\"data row4 col3\" >216.769750</td>\n",
       "      <td id=\"T_28d64_row4_col4\" class=\"data row4 col4\" >8.655942</td>\n",
       "      <td id=\"T_28d64_row4_col5\" class=\"data row4 col5\" >3.000000</td>\n",
       "    </tr>\n",
       "    <tr>\n",
       "      <th id=\"T_28d64_level0_row5\" class=\"row_heading level0 row5\" >50%</th>\n",
       "      <td id=\"T_28d64_row5_col0\" class=\"data row5 col0\" >11.000000</td>\n",
       "      <td id=\"T_28d64_row5_col1\" class=\"data row5 col1\" >140.000000</td>\n",
       "      <td id=\"T_28d64_row5_col2\" class=\"data row5 col2\" >683.544000</td>\n",
       "      <td id=\"T_28d64_row5_col3\" class=\"data row5 col3\" >451.336500</td>\n",
       "      <td id=\"T_28d64_row5_col4\" class=\"data row5 col4\" >11.158848</td>\n",
       "      <td id=\"T_28d64_row5_col5\" class=\"data row5 col5\" >6.000000</td>\n",
       "    </tr>\n",
       "    <tr>\n",
       "      <th id=\"T_28d64_level0_row6\" class=\"row_heading level0 row6\" >75%</th>\n",
       "      <td id=\"T_28d64_row6_col0\" class=\"data row6 col0\" >30.000000</td>\n",
       "      <td id=\"T_28d64_row6_col1\" class=\"data row6 col1\" >390.000000</td>\n",
       "      <td id=\"T_28d64_row6_col2\" class=\"data row6 col2\" >1366.255000</td>\n",
       "      <td id=\"T_28d64_row6_col3\" class=\"data row6 col3\" >907.412000</td>\n",
       "      <td id=\"T_28d64_row6_col4\" class=\"data row6 col4\" >13.977671</td>\n",
       "      <td id=\"T_28d64_row6_col5\" class=\"data row6 col5\" >11.000000</td>\n",
       "    </tr>\n",
       "    <tr>\n",
       "      <th id=\"T_28d64_level0_row7\" class=\"row_heading level0 row7\" >max</th>\n",
       "      <td id=\"T_28d64_row7_col0\" class=\"data row7 col0\" >1171.000000</td>\n",
       "      <td id=\"T_28d64_row7_col1\" class=\"data row7 col1\" >17480.000000</td>\n",
       "      <td id=\"T_28d64_row7_col2\" class=\"data row7 col2\" >24387.263000</td>\n",
       "      <td id=\"T_28d64_row7_col3\" class=\"data row7 col3\" >18067.605000</td>\n",
       "      <td id=\"T_28d64_row7_col4\" class=\"data row7 col4\" >66.754657</td>\n",
       "      <td id=\"T_28d64_row7_col5\" class=\"data row7 col5\" >23.000000</td>\n",
       "    </tr>\n",
       "  </tbody>\n",
       "</table>\n"
      ],
      "text/plain": [
       "<pandas.io.formats.style.Styler at 0x13d3ce5c0>"
      ]
     },
     "execution_count": 136,
     "metadata": {},
     "output_type": "execute_result"
    }
   ],
   "source": [
    "best_seller_stats = best_sellers.describe()\n",
    "\n",
    "best_seller_stats.style.applymap(highlight_cols, subset=pd.IndexSlice[:, ['wait_time']])"
   ]
  },
  {
   "cell_type": "code",
   "execution_count": 139,
   "metadata": {
    "slideshow": {
     "slide_type": "subslide"
    },
    "tags": [
     "remove_input"
    ]
   },
   "outputs": [
    {
     "data": {
      "image/png": "[encoded data removed]",
      "text/plain": [
       "<Figure size 640x480 with 1 Axes>"
      ]
     },
     "metadata": {},
     "output_type": "display_data"
    }
   ],
   "source": [
    "worst_sellers['months_on_olist'].plot(kind='hist',bins=30,xlim=(0,20),title='Worst Sellers months on Olist distribution');"
   ]
  },
  {
   "cell_type": "markdown",
   "metadata": {
    "slideshow": {
     "slide_type": "subslide"
    }
   },
   "source": [
    "## Does wait time go down as the seller gets more experienced?"
   ]
  },
  {
   "cell_type": "code",
   "execution_count": 163,
   "metadata": {
    "slideshow": {
     "slide_type": "fragment"
    },
    "tags": [
     "remove_input"
    ]
   },
   "outputs": [
    {
     "data": {
      "image/png": "[encoded data removed]",
      "text/plain": [
       "<Figure size 640x480 with 1 Axes>"
      ]
     },
     "metadata": {},
     "output_type": "display_data"
    }
   ],
   "source": [
    "# sellers = Seller().get_training_data()\n",
    "avg_wait_time = sellers.groupby('months_on_olist').mean()\n",
    "g = sns.scatterplot(data=avg_wait_time,x='months_on_olist',y='wait_time');\n",
    "g.set_ylim(0,100)\n",
    "g.set_title('Average wait times by seller months on olist');"
   ]
  },
  {
   "cell_type": "markdown",
   "metadata": {
    "slideshow": {
     "slide_type": "subslide"
    }
   },
   "source": [
    "## Is there a significant difference in wait time between the best and worst sellers?"
   ]
  },
  {
   "cell_type": "code",
   "execution_count": 146,
   "metadata": {
    "slideshow": {
     "slide_type": "fragment"
    },
    "tags": [
     "remove_input"
    ]
   },
   "outputs": [
    {
     "data": {
      "image/png": "[encoded data removed]",
      "text/plain": [
       "<Figure size 640x480 with 1 Axes>"
      ]
     },
     "metadata": {},
     "output_type": "display_data"
    }
   ],
   "source": [
    "fig, (ax) = plt.subplots();\n",
    "sns.histplot(ax=ax, data=worst_sellers,x='wait_time',bins=150,label='worst sellers');\n",
    "sns.histplot(ax=ax, data=best_sellers,x='wait_time',bins=50, color='orange',label='best sellers');\n",
    "ax.set_xlim(0,30)\n",
    "ax.legend();"
   ]
  },
  {
   "cell_type": "code",
   "execution_count": null,
   "metadata": {
    "slideshow": {
     "slide_type": "skip"
    }
   },
   "outputs": [],
   "source": []
  }
 ],
 "metadata": {
  "kernelspec": {
   "display_name": "Python 3 (ipykernel)",
   "language": "python",
   "name": "python3"
  },
  "language_info": {
   "codemirror_mode": {
    "name": "ipython",
    "version": 3
   },
   "file_extension": ".py",
   "mimetype": "text/x-python",
   "name": "python",
   "nbconvert_exporter": "python",
   "pygments_lexer": "ipython3",
   "version": "3.10.6"
  },
  "toc": {
   "base_numbering": 1,
   "nav_menu": {},
   "number_sections": true,
   "sideBar": true,
   "skip_h1_title": false,
   "title_cell": "Table of Contents",
   "title_sidebar": "Contents",
   "toc_cell": false,
   "toc_position": {},
   "toc_section_display": true,
   "toc_window_display": false
  }
 },
 "nbformat": 4,
 "nbformat_minor": 4
}
